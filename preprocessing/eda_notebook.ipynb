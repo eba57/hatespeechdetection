{
  "metadata": {
    "language_info": {
      "codemirror_mode": {
        "name": "ipython",
        "version": 3
      },
      "file_extension": ".py",
      "mimetype": "text/x-python",
      "name": "python",
      "nbconvert_exporter": "python",
      "pygments_lexer": "ipython3",
      "version": "3.6.9-final"
    },
    "orig_nbformat": 2,
    "kernelspec": {
      "name": "learn-env",
      "display_name": "learn-env",
      "language": "python"
    },
    "colab": {
      "provenance": []
    }
  },
  "nbformat": 4,
  "nbformat_minor": 0,
  "cells": [
    {
      "source": [
        "# Exploratory Data Analysis (EDA)\n",
        "\n",
        "The purpose of this notebook is to perform EDA on the cleaned data before modeling.\n",
        "\n",
        "**Please note:** Because of the subject matter of this project, this notebook contains uncensored offensive language from the dataset.\n"
      ],
      "cell_type": "markdown",
      "metadata": {
        "id": "dbUL_R7hrcwd"
      }
    },
    {
      "cell_type": "code",
      "execution_count": 10,
      "metadata": {
        "id": "AcwqrkBJrcwk",
        "outputId": "0a0a4a70-355a-4302-d07b-829d85628ddc",
        "colab": {
          "base_uri": "https://localhost:8080/"
        }
      },
      "outputs": [
        {
          "output_type": "stream",
          "name": "stderr",
          "text": [
            "[nltk_data] Downloading package stopwords to /root/nltk_data...\n",
            "[nltk_data]   Unzipping corpora/stopwords.zip.\n"
          ]
        }
      ],
      "source": [
        "import numpy as np\n",
        "import pandas as pd\n",
        "import matplotlib.pyplot as plt\n",
        "from matplotlib import cm\n",
        "import seaborn as sns\n",
        "import nltk\n",
        "nltk.download('stopwords')\n",
        "%matplotlib inline\n",
        "plt.style.use('bmh')\n",
        "# NLP libraries\n",
        "import nltk\n",
        "from sklearn.feature_extraction import text \n",
        "from nltk.stem import WordNetLemmatizer \n",
        "from sklearn.feature_extraction.text import CountVectorizer\n",
        "from sklearn.feature_extraction.text import TfidfVectorizer\n",
        "from sklearn.feature_extraction.text import TfidfTransformer\n",
        "from nltk.probability import FreqDist\n",
        "from nltk.corpus import stopwords\n",
        "from nltk.stem import PorterStemmer\n",
        "from sklearn.naive_bayes import MultinomialNB"
      ]
    },
    {
      "cell_type": "code",
      "source": [
        "pip install stylecloud"
      ],
      "metadata": {
        "id": "X3JifciexBAD",
        "outputId": "73385d55-1c57-4225-b9ad-a201537a3a73",
        "colab": {
          "base_uri": "https://localhost:8080/"
        }
      },
      "execution_count": 38,
      "outputs": [
        {
          "output_type": "stream",
          "name": "stdout",
          "text": [
            "Looking in indexes: https://pypi.org/simple, https://us-python.pkg.dev/colab-wheels/public/simple/\n",
            "Collecting stylecloud\n",
            "  Downloading stylecloud-0.5.2.tar.gz (262 kB)\n",
            "\u001b[2K     \u001b[90m━━━━━━━━━━━━━━━━━━━━━━━━━━━━━━━━━━━━━━━\u001b[0m \u001b[32m262.1/262.1 KB\u001b[0m \u001b[31m6.0 MB/s\u001b[0m eta \u001b[36m0:00:00\u001b[0m\n",
            "\u001b[?25h  Preparing metadata (setup.py) ... \u001b[?25l\u001b[?25hdone\n",
            "Requirement already satisfied: wordcloud in /usr/local/lib/python3.8/dist-packages (from stylecloud) (1.8.2.2)\n",
            "Collecting icon-font-to-png\n",
            "  Downloading icon_font_to_png-0.4.1-py2.py3-none-any.whl (161 kB)\n",
            "\u001b[2K     \u001b[90m━━━━━━━━━━━━━━━━━━━━━━━━━━━━━━━━━━━━━━\u001b[0m \u001b[32m161.4/161.4 KB\u001b[0m \u001b[31m18.1 MB/s\u001b[0m eta \u001b[36m0:00:00\u001b[0m\n",
            "\u001b[?25hRequirement already satisfied: palettable in /usr/local/lib/python3.8/dist-packages (from stylecloud) (3.3.0)\n",
            "Collecting fire\n",
            "  Downloading fire-0.5.0.tar.gz (88 kB)\n",
            "\u001b[2K     \u001b[90m━━━━━━━━━━━━━━━━━━━━━━━━━━━━━━━━━━━━━━━━\u001b[0m \u001b[32m88.3/88.3 KB\u001b[0m \u001b[31m11.8 MB/s\u001b[0m eta \u001b[36m0:00:00\u001b[0m\n",
            "\u001b[?25h  Preparing metadata (setup.py) ... \u001b[?25l\u001b[?25hdone\n",
            "Requirement already satisfied: matplotlib in /usr/local/lib/python3.8/dist-packages (from stylecloud) (3.2.2)\n",
            "Requirement already satisfied: six in /usr/local/lib/python3.8/dist-packages (from fire->stylecloud) (1.15.0)\n",
            "Requirement already satisfied: termcolor in /usr/local/lib/python3.8/dist-packages (from fire->stylecloud) (2.2.0)\n",
            "Collecting tinycss>=0.4\n",
            "  Downloading tinycss-0.4.tar.gz (87 kB)\n",
            "\u001b[2K     \u001b[90m━━━━━━━━━━━━━━━━━━━━━━━━━━━━━━━━━━━━━━━━\u001b[0m \u001b[32m87.8/87.8 KB\u001b[0m \u001b[31m11.6 MB/s\u001b[0m eta \u001b[36m0:00:00\u001b[0m\n",
            "\u001b[?25h  Preparing metadata (setup.py) ... \u001b[?25l\u001b[?25hdone\n",
            "Requirement already satisfied: requests>=2.12.5 in /usr/local/lib/python3.8/dist-packages (from icon-font-to-png->stylecloud) (2.25.1)\n",
            "Requirement already satisfied: Pillow>=4.0.0 in /usr/local/lib/python3.8/dist-packages (from icon-font-to-png->stylecloud) (7.1.2)\n",
            "Requirement already satisfied: cycler>=0.10 in /usr/local/lib/python3.8/dist-packages (from matplotlib->stylecloud) (0.11.0)\n",
            "Requirement already satisfied: python-dateutil>=2.1 in /usr/local/lib/python3.8/dist-packages (from matplotlib->stylecloud) (2.8.2)\n",
            "Requirement already satisfied: numpy>=1.11 in /usr/local/lib/python3.8/dist-packages (from matplotlib->stylecloud) (1.21.6)\n",
            "Requirement already satisfied: pyparsing!=2.0.4,!=2.1.2,!=2.1.6,>=2.0.1 in /usr/local/lib/python3.8/dist-packages (from matplotlib->stylecloud) (3.0.9)\n",
            "Requirement already satisfied: kiwisolver>=1.0.1 in /usr/local/lib/python3.8/dist-packages (from matplotlib->stylecloud) (1.4.4)\n",
            "Requirement already satisfied: urllib3<1.27,>=1.21.1 in /usr/local/lib/python3.8/dist-packages (from requests>=2.12.5->icon-font-to-png->stylecloud) (1.24.3)\n",
            "Requirement already satisfied: certifi>=2017.4.17 in /usr/local/lib/python3.8/dist-packages (from requests>=2.12.5->icon-font-to-png->stylecloud) (2022.12.7)\n",
            "Requirement already satisfied: idna<3,>=2.5 in /usr/local/lib/python3.8/dist-packages (from requests>=2.12.5->icon-font-to-png->stylecloud) (2.10)\n",
            "Requirement already satisfied: chardet<5,>=3.0.2 in /usr/local/lib/python3.8/dist-packages (from requests>=2.12.5->icon-font-to-png->stylecloud) (4.0.0)\n",
            "Building wheels for collected packages: stylecloud, fire, tinycss\n",
            "  Building wheel for stylecloud (setup.py) ... \u001b[?25l\u001b[?25hdone\n",
            "  Created wheel for stylecloud: filename=stylecloud-0.5.2-py3-none-any.whl size=259510 sha256=c8bd225be00920c3f90b7c8e8c7ccfd60e865114295a476be0c9a22222b8d7b3\n",
            "  Stored in directory: /root/.cache/pip/wheels/89/52/2d/2c5a52800b7bf64bb3c6cf3b59ffab9ad48ef373fcde0a0751\n",
            "  Building wheel for fire (setup.py) ... \u001b[?25l\u001b[?25hdone\n",
            "  Created wheel for fire: filename=fire-0.5.0-py2.py3-none-any.whl size=116949 sha256=de7ac0ca9da6bd21bb7f095d5aaa060131b274e03e54e9118fad4e84ffb59fc8\n",
            "  Stored in directory: /root/.cache/pip/wheels/5b/eb/43/7295e71293b218ddfd627f935229bf54af9018add7fbb5aac6\n",
            "  Building wheel for tinycss (setup.py) ... \u001b[?25l\u001b[?25hdone\n",
            "  Created wheel for tinycss: filename=tinycss-0.4-py3-none-any.whl size=43955 sha256=f73cd9ac6bdcf05eb6063042a09dc4a501b0bbce83c100dd44459d84f28ba2db\n",
            "  Stored in directory: /root/.cache/pip/wheels/9a/9e/46/42a1ce4dca43c6b8e0c7ac03eb210872a90fce30f1bd82fa3b\n",
            "Successfully built stylecloud fire tinycss\n",
            "Installing collected packages: tinycss, fire, icon-font-to-png, stylecloud\n",
            "Successfully installed fire-0.5.0 icon-font-to-png-0.4.1 stylecloud-0.5.2 tinycss-0.4\n"
          ]
        }
      ]
    },
    {
      "cell_type": "code",
      "source": [
        "import stylecloud"
      ],
      "metadata": {
        "id": "naF-kW55xb1h"
      },
      "execution_count": 39,
      "outputs": []
    },
    {
      "cell_type": "code",
      "source": [
        "nltk.download('punkt')"
      ],
      "metadata": {
        "id": "sstNL7Iavms5",
        "outputId": "21c09b3e-ef5a-4d23-9cca-f75c597c1e71",
        "colab": {
          "base_uri": "https://localhost:8080/"
        }
      },
      "execution_count": 13,
      "outputs": [
        {
          "output_type": "stream",
          "name": "stderr",
          "text": [
            "[nltk_data] Downloading package punkt to /root/nltk_data...\n",
            "[nltk_data]   Unzipping tokenizers/punkt.zip.\n"
          ]
        },
        {
          "output_type": "execute_result",
          "data": {
            "text/plain": [
              "True"
            ]
          },
          "metadata": {},
          "execution_count": 13
        }
      ]
    },
    {
      "cell_type": "code",
      "source": [
        "# loading in clean_df\n",
        "from google.colab import files\n",
        "data_to_load = files.upload()\n",
        "import io\n",
        "clean_df = pd.read_pickle(io.BytesIO(data_to_load['clean_df.pkl']))\n"
      ],
      "metadata": {
        "id": "wst5C9TatNhQ",
        "outputId": "1b6673a1-c82b-4584-c6c9-79ebfd99c587",
        "colab": {
          "base_uri": "https://localhost:8080/",
          "height": 78
        }
      },
      "execution_count": 3,
      "outputs": [
        {
          "output_type": "display_data",
          "data": {
            "text/plain": [
              "<IPython.core.display.HTML object>"
            ],
            "text/html": [
              "\n",
              "     <input type=\"file\" id=\"files-07c7cc91-f8c2-4fd0-b2f9-650cf5660feb\" name=\"files[]\" multiple disabled\n",
              "        style=\"border:none\" />\n",
              "     <output id=\"result-07c7cc91-f8c2-4fd0-b2f9-650cf5660feb\">\n",
              "      Upload widget is only available when the cell has been executed in the\n",
              "      current browser session. Please rerun this cell to enable.\n",
              "      </output>\n",
              "      <script>// Copyright 2017 Google LLC\n",
              "//\n",
              "// Licensed under the Apache License, Version 2.0 (the \"License\");\n",
              "// you may not use this file except in compliance with the License.\n",
              "// You may obtain a copy of the License at\n",
              "//\n",
              "//      http://www.apache.org/licenses/LICENSE-2.0\n",
              "//\n",
              "// Unless required by applicable law or agreed to in writing, software\n",
              "// distributed under the License is distributed on an \"AS IS\" BASIS,\n",
              "// WITHOUT WARRANTIES OR CONDITIONS OF ANY KIND, either express or implied.\n",
              "// See the License for the specific language governing permissions and\n",
              "// limitations under the License.\n",
              "\n",
              "/**\n",
              " * @fileoverview Helpers for google.colab Python module.\n",
              " */\n",
              "(function(scope) {\n",
              "function span(text, styleAttributes = {}) {\n",
              "  const element = document.createElement('span');\n",
              "  element.textContent = text;\n",
              "  for (const key of Object.keys(styleAttributes)) {\n",
              "    element.style[key] = styleAttributes[key];\n",
              "  }\n",
              "  return element;\n",
              "}\n",
              "\n",
              "// Max number of bytes which will be uploaded at a time.\n",
              "const MAX_PAYLOAD_SIZE = 100 * 1024;\n",
              "\n",
              "function _uploadFiles(inputId, outputId) {\n",
              "  const steps = uploadFilesStep(inputId, outputId);\n",
              "  const outputElement = document.getElementById(outputId);\n",
              "  // Cache steps on the outputElement to make it available for the next call\n",
              "  // to uploadFilesContinue from Python.\n",
              "  outputElement.steps = steps;\n",
              "\n",
              "  return _uploadFilesContinue(outputId);\n",
              "}\n",
              "\n",
              "// This is roughly an async generator (not supported in the browser yet),\n",
              "// where there are multiple asynchronous steps and the Python side is going\n",
              "// to poll for completion of each step.\n",
              "// This uses a Promise to block the python side on completion of each step,\n",
              "// then passes the result of the previous step as the input to the next step.\n",
              "function _uploadFilesContinue(outputId) {\n",
              "  const outputElement = document.getElementById(outputId);\n",
              "  const steps = outputElement.steps;\n",
              "\n",
              "  const next = steps.next(outputElement.lastPromiseValue);\n",
              "  return Promise.resolve(next.value.promise).then((value) => {\n",
              "    // Cache the last promise value to make it available to the next\n",
              "    // step of the generator.\n",
              "    outputElement.lastPromiseValue = value;\n",
              "    return next.value.response;\n",
              "  });\n",
              "}\n",
              "\n",
              "/**\n",
              " * Generator function which is called between each async step of the upload\n",
              " * process.\n",
              " * @param {string} inputId Element ID of the input file picker element.\n",
              " * @param {string} outputId Element ID of the output display.\n",
              " * @return {!Iterable<!Object>} Iterable of next steps.\n",
              " */\n",
              "function* uploadFilesStep(inputId, outputId) {\n",
              "  const inputElement = document.getElementById(inputId);\n",
              "  inputElement.disabled = false;\n",
              "\n",
              "  const outputElement = document.getElementById(outputId);\n",
              "  outputElement.innerHTML = '';\n",
              "\n",
              "  const pickedPromise = new Promise((resolve) => {\n",
              "    inputElement.addEventListener('change', (e) => {\n",
              "      resolve(e.target.files);\n",
              "    });\n",
              "  });\n",
              "\n",
              "  const cancel = document.createElement('button');\n",
              "  inputElement.parentElement.appendChild(cancel);\n",
              "  cancel.textContent = 'Cancel upload';\n",
              "  const cancelPromise = new Promise((resolve) => {\n",
              "    cancel.onclick = () => {\n",
              "      resolve(null);\n",
              "    };\n",
              "  });\n",
              "\n",
              "  // Wait for the user to pick the files.\n",
              "  const files = yield {\n",
              "    promise: Promise.race([pickedPromise, cancelPromise]),\n",
              "    response: {\n",
              "      action: 'starting',\n",
              "    }\n",
              "  };\n",
              "\n",
              "  cancel.remove();\n",
              "\n",
              "  // Disable the input element since further picks are not allowed.\n",
              "  inputElement.disabled = true;\n",
              "\n",
              "  if (!files) {\n",
              "    return {\n",
              "      response: {\n",
              "        action: 'complete',\n",
              "      }\n",
              "    };\n",
              "  }\n",
              "\n",
              "  for (const file of files) {\n",
              "    const li = document.createElement('li');\n",
              "    li.append(span(file.name, {fontWeight: 'bold'}));\n",
              "    li.append(span(\n",
              "        `(${file.type || 'n/a'}) - ${file.size} bytes, ` +\n",
              "        `last modified: ${\n",
              "            file.lastModifiedDate ? file.lastModifiedDate.toLocaleDateString() :\n",
              "                                    'n/a'} - `));\n",
              "    const percent = span('0% done');\n",
              "    li.appendChild(percent);\n",
              "\n",
              "    outputElement.appendChild(li);\n",
              "\n",
              "    const fileDataPromise = new Promise((resolve) => {\n",
              "      const reader = new FileReader();\n",
              "      reader.onload = (e) => {\n",
              "        resolve(e.target.result);\n",
              "      };\n",
              "      reader.readAsArrayBuffer(file);\n",
              "    });\n",
              "    // Wait for the data to be ready.\n",
              "    let fileData = yield {\n",
              "      promise: fileDataPromise,\n",
              "      response: {\n",
              "        action: 'continue',\n",
              "      }\n",
              "    };\n",
              "\n",
              "    // Use a chunked sending to avoid message size limits. See b/62115660.\n",
              "    let position = 0;\n",
              "    do {\n",
              "      const length = Math.min(fileData.byteLength - position, MAX_PAYLOAD_SIZE);\n",
              "      const chunk = new Uint8Array(fileData, position, length);\n",
              "      position += length;\n",
              "\n",
              "      const base64 = btoa(String.fromCharCode.apply(null, chunk));\n",
              "      yield {\n",
              "        response: {\n",
              "          action: 'append',\n",
              "          file: file.name,\n",
              "          data: base64,\n",
              "        },\n",
              "      };\n",
              "\n",
              "      let percentDone = fileData.byteLength === 0 ?\n",
              "          100 :\n",
              "          Math.round((position / fileData.byteLength) * 100);\n",
              "      percent.textContent = `${percentDone}% done`;\n",
              "\n",
              "    } while (position < fileData.byteLength);\n",
              "  }\n",
              "\n",
              "  // All done.\n",
              "  yield {\n",
              "    response: {\n",
              "      action: 'complete',\n",
              "    }\n",
              "  };\n",
              "}\n",
              "\n",
              "scope.google = scope.google || {};\n",
              "scope.google.colab = scope.google.colab || {};\n",
              "scope.google.colab._files = {\n",
              "  _uploadFiles,\n",
              "  _uploadFilesContinue,\n",
              "};\n",
              "})(self);\n",
              "</script> "
            ]
          },
          "metadata": {}
        },
        {
          "output_type": "stream",
          "name": "stdout",
          "text": [
            "Saving clean_df.pkl to clean_df (1).pkl\n"
          ]
        }
      ]
    },
    {
      "cell_type": "code",
      "execution_count": null,
      "metadata": {
        "id": "LbZ2pmBzrcwo"
      },
      "outputs": [],
      "source": [
        "# for local runtime\n",
        "# clean_df = pd.read_pickle('clean_df.pkl')"
      ]
    },
    {
      "cell_type": "code",
      "execution_count": 4,
      "metadata": {
        "id": "jK1RoEV_rcwq",
        "outputId": "aa372699-d480-4592-9bac-42c7f1b52f69",
        "colab": {
          "base_uri": "https://localhost:8080/",
          "height": 344
        }
      },
      "outputs": [
        {
          "output_type": "execute_result",
          "data": {
            "text/plain": [
              "   total_votes  hate_speech_votes  other_votes  label  \\\n",
              "0            3                  0            3      0   \n",
              "1            3                  0            3      0   \n",
              "2            3                  0            3      0   \n",
              "\n",
              "                                               tweet  \\\n",
              "0  !!! RT @mayasolovely: As a woman you shouldn't...   \n",
              "1  !!!!! RT @mleew17: boy dats cold...tyga dwn ba...   \n",
              "2  !!!!!!! RT @UrKindOfBrand Dawg!!!! RT @80sbaby...   \n",
              "\n",
              "                                        clean_tweets  \n",
              "0     as a woman you shouldnt complain about clea...  \n",
              "1     boy dats coldtyga dwn bad for cuffin dat ho...  \n",
              "2     dawg   you ever fuck a bitch and she sta to...  "
            ],
            "text/html": [
              "\n",
              "  <div id=\"df-657fb2e7-0cf2-4b7a-b975-8eb5e220730d\">\n",
              "    <div class=\"colab-df-container\">\n",
              "      <div>\n",
              "<style scoped>\n",
              "    .dataframe tbody tr th:only-of-type {\n",
              "        vertical-align: middle;\n",
              "    }\n",
              "\n",
              "    .dataframe tbody tr th {\n",
              "        vertical-align: top;\n",
              "    }\n",
              "\n",
              "    .dataframe thead th {\n",
              "        text-align: right;\n",
              "    }\n",
              "</style>\n",
              "<table border=\"1\" class=\"dataframe\">\n",
              "  <thead>\n",
              "    <tr style=\"text-align: right;\">\n",
              "      <th></th>\n",
              "      <th>total_votes</th>\n",
              "      <th>hate_speech_votes</th>\n",
              "      <th>other_votes</th>\n",
              "      <th>label</th>\n",
              "      <th>tweet</th>\n",
              "      <th>clean_tweets</th>\n",
              "    </tr>\n",
              "  </thead>\n",
              "  <tbody>\n",
              "    <tr>\n",
              "      <th>0</th>\n",
              "      <td>3</td>\n",
              "      <td>0</td>\n",
              "      <td>3</td>\n",
              "      <td>0</td>\n",
              "      <td>!!! RT @mayasolovely: As a woman you shouldn't...</td>\n",
              "      <td>as a woman you shouldnt complain about clea...</td>\n",
              "    </tr>\n",
              "    <tr>\n",
              "      <th>1</th>\n",
              "      <td>3</td>\n",
              "      <td>0</td>\n",
              "      <td>3</td>\n",
              "      <td>0</td>\n",
              "      <td>!!!!! RT @mleew17: boy dats cold...tyga dwn ba...</td>\n",
              "      <td>boy dats coldtyga dwn bad for cuffin dat ho...</td>\n",
              "    </tr>\n",
              "    <tr>\n",
              "      <th>2</th>\n",
              "      <td>3</td>\n",
              "      <td>0</td>\n",
              "      <td>3</td>\n",
              "      <td>0</td>\n",
              "      <td>!!!!!!! RT @UrKindOfBrand Dawg!!!! RT @80sbaby...</td>\n",
              "      <td>dawg   you ever fuck a bitch and she sta to...</td>\n",
              "    </tr>\n",
              "  </tbody>\n",
              "</table>\n",
              "</div>\n",
              "      <button class=\"colab-df-convert\" onclick=\"convertToInteractive('df-657fb2e7-0cf2-4b7a-b975-8eb5e220730d')\"\n",
              "              title=\"Convert this dataframe to an interactive table.\"\n",
              "              style=\"display:none;\">\n",
              "        \n",
              "  <svg xmlns=\"http://www.w3.org/2000/svg\" height=\"24px\"viewBox=\"0 0 24 24\"\n",
              "       width=\"24px\">\n",
              "    <path d=\"M0 0h24v24H0V0z\" fill=\"none\"/>\n",
              "    <path d=\"M18.56 5.44l.94 2.06.94-2.06 2.06-.94-2.06-.94-.94-2.06-.94 2.06-2.06.94zm-11 1L8.5 8.5l.94-2.06 2.06-.94-2.06-.94L8.5 2.5l-.94 2.06-2.06.94zm10 10l.94 2.06.94-2.06 2.06-.94-2.06-.94-.94-2.06-.94 2.06-2.06.94z\"/><path d=\"M17.41 7.96l-1.37-1.37c-.4-.4-.92-.59-1.43-.59-.52 0-1.04.2-1.43.59L10.3 9.45l-7.72 7.72c-.78.78-.78 2.05 0 2.83L4 21.41c.39.39.9.59 1.41.59.51 0 1.02-.2 1.41-.59l7.78-7.78 2.81-2.81c.8-.78.8-2.07 0-2.86zM5.41 20L4 18.59l7.72-7.72 1.47 1.35L5.41 20z\"/>\n",
              "  </svg>\n",
              "      </button>\n",
              "      \n",
              "  <style>\n",
              "    .colab-df-container {\n",
              "      display:flex;\n",
              "      flex-wrap:wrap;\n",
              "      gap: 12px;\n",
              "    }\n",
              "\n",
              "    .colab-df-convert {\n",
              "      background-color: #E8F0FE;\n",
              "      border: none;\n",
              "      border-radius: 50%;\n",
              "      cursor: pointer;\n",
              "      display: none;\n",
              "      fill: #1967D2;\n",
              "      height: 32px;\n",
              "      padding: 0 0 0 0;\n",
              "      width: 32px;\n",
              "    }\n",
              "\n",
              "    .colab-df-convert:hover {\n",
              "      background-color: #E2EBFA;\n",
              "      box-shadow: 0px 1px 2px rgba(60, 64, 67, 0.3), 0px 1px 3px 1px rgba(60, 64, 67, 0.15);\n",
              "      fill: #174EA6;\n",
              "    }\n",
              "\n",
              "    [theme=dark] .colab-df-convert {\n",
              "      background-color: #3B4455;\n",
              "      fill: #D2E3FC;\n",
              "    }\n",
              "\n",
              "    [theme=dark] .colab-df-convert:hover {\n",
              "      background-color: #434B5C;\n",
              "      box-shadow: 0px 1px 3px 1px rgba(0, 0, 0, 0.15);\n",
              "      filter: drop-shadow(0px 1px 2px rgba(0, 0, 0, 0.3));\n",
              "      fill: #FFFFFF;\n",
              "    }\n",
              "  </style>\n",
              "\n",
              "      <script>\n",
              "        const buttonEl =\n",
              "          document.querySelector('#df-657fb2e7-0cf2-4b7a-b975-8eb5e220730d button.colab-df-convert');\n",
              "        buttonEl.style.display =\n",
              "          google.colab.kernel.accessAllowed ? 'block' : 'none';\n",
              "\n",
              "        async function convertToInteractive(key) {\n",
              "          const element = document.querySelector('#df-657fb2e7-0cf2-4b7a-b975-8eb5e220730d');\n",
              "          const dataTable =\n",
              "            await google.colab.kernel.invokeFunction('convertToInteractive',\n",
              "                                                     [key], {});\n",
              "          if (!dataTable) return;\n",
              "\n",
              "          const docLinkHtml = 'Like what you see? Visit the ' +\n",
              "            '<a target=\"_blank\" href=https://colab.research.google.com/notebooks/data_table.ipynb>data table notebook</a>'\n",
              "            + ' to learn more about interactive tables.';\n",
              "          element.innerHTML = '';\n",
              "          dataTable['output_type'] = 'display_data';\n",
              "          await google.colab.output.renderOutput(dataTable, element);\n",
              "          const docLink = document.createElement('div');\n",
              "          docLink.innerHTML = docLinkHtml;\n",
              "          element.appendChild(docLink);\n",
              "        }\n",
              "      </script>\n",
              "    </div>\n",
              "  </div>\n",
              "  "
            ]
          },
          "metadata": {},
          "execution_count": 4
        }
      ],
      "source": [
        "clean_df.head(3)"
      ]
    },
    {
      "source": [
        "We already know that the vocabulary for this dataset is **20277 unique words.**"
      ],
      "cell_type": "markdown",
      "metadata": {
        "id": "ThQWGtUtrcwr"
      }
    },
    {
      "source": [
        "# Censoring Words"
      ],
      "cell_type": "markdown",
      "metadata": {
        "id": "WENvmlZZrcwt"
      }
    },
    {
      "cell_type": "code",
      "execution_count": 5,
      "metadata": {
        "id": "nXw-Ec10rcwv"
      },
      "outputs": [],
      "source": [
        "replacements = { 'bitch':'b**ch', 'bitches':'b**ches', 'nigga':'n***a', 'nigger':'ni**er', 'ass':'a**', 'hoe':'h**', 'hoes':'h**s', 'faggot':'fa***t', 'faggots':'fa***ts', 'fuck':'f**k','fucking':'f**king', 'pussy':'p**sy', 'fag':'f**', 'shit':'sh*t' }\n",
        "\n",
        "for k, v in replacements.items():\n",
        "    clean_df['clean_tweets'] = clean_df['clean_tweets'].str.replace(k, v)"
      ]
    },
    {
      "cell_type": "code",
      "execution_count": 6,
      "metadata": {
        "id": "enSZ62JYrcwx",
        "outputId": "ff6b7aa5-3c5c-40b0-8282-c0561a662569",
        "colab": {
          "base_uri": "https://localhost:8080/",
          "height": 344
        }
      },
      "outputs": [
        {
          "output_type": "execute_result",
          "data": {
            "text/plain": [
              "   total_votes  hate_speech_votes  other_votes  label  \\\n",
              "0            3                  0            3      0   \n",
              "1            3                  0            3      0   \n",
              "2            3                  0            3      0   \n",
              "\n",
              "                                               tweet  \\\n",
              "0  !!! RT @mayasolovely: As a woman you shouldn't...   \n",
              "1  !!!!! RT @mleew17: boy dats cold...tyga dwn ba...   \n",
              "2  !!!!!!! RT @UrKindOfBrand Dawg!!!! RT @80sbaby...   \n",
              "\n",
              "                                        clean_tweets  \n",
              "0     as a woman you shouldnt complain about clea...  \n",
              "1     boy dats coldtyga dwn bad for cuffin dat h*...  \n",
              "2     dawg   you ever f**k a b**ch and she sta to...  "
            ],
            "text/html": [
              "\n",
              "  <div id=\"df-a4873d20-1e13-408a-b9a7-30fe560d81a6\">\n",
              "    <div class=\"colab-df-container\">\n",
              "      <div>\n",
              "<style scoped>\n",
              "    .dataframe tbody tr th:only-of-type {\n",
              "        vertical-align: middle;\n",
              "    }\n",
              "\n",
              "    .dataframe tbody tr th {\n",
              "        vertical-align: top;\n",
              "    }\n",
              "\n",
              "    .dataframe thead th {\n",
              "        text-align: right;\n",
              "    }\n",
              "</style>\n",
              "<table border=\"1\" class=\"dataframe\">\n",
              "  <thead>\n",
              "    <tr style=\"text-align: right;\">\n",
              "      <th></th>\n",
              "      <th>total_votes</th>\n",
              "      <th>hate_speech_votes</th>\n",
              "      <th>other_votes</th>\n",
              "      <th>label</th>\n",
              "      <th>tweet</th>\n",
              "      <th>clean_tweets</th>\n",
              "    </tr>\n",
              "  </thead>\n",
              "  <tbody>\n",
              "    <tr>\n",
              "      <th>0</th>\n",
              "      <td>3</td>\n",
              "      <td>0</td>\n",
              "      <td>3</td>\n",
              "      <td>0</td>\n",
              "      <td>!!! RT @mayasolovely: As a woman you shouldn't...</td>\n",
              "      <td>as a woman you shouldnt complain about clea...</td>\n",
              "    </tr>\n",
              "    <tr>\n",
              "      <th>1</th>\n",
              "      <td>3</td>\n",
              "      <td>0</td>\n",
              "      <td>3</td>\n",
              "      <td>0</td>\n",
              "      <td>!!!!! RT @mleew17: boy dats cold...tyga dwn ba...</td>\n",
              "      <td>boy dats coldtyga dwn bad for cuffin dat h*...</td>\n",
              "    </tr>\n",
              "    <tr>\n",
              "      <th>2</th>\n",
              "      <td>3</td>\n",
              "      <td>0</td>\n",
              "      <td>3</td>\n",
              "      <td>0</td>\n",
              "      <td>!!!!!!! RT @UrKindOfBrand Dawg!!!! RT @80sbaby...</td>\n",
              "      <td>dawg   you ever f**k a b**ch and she sta to...</td>\n",
              "    </tr>\n",
              "  </tbody>\n",
              "</table>\n",
              "</div>\n",
              "      <button class=\"colab-df-convert\" onclick=\"convertToInteractive('df-a4873d20-1e13-408a-b9a7-30fe560d81a6')\"\n",
              "              title=\"Convert this dataframe to an interactive table.\"\n",
              "              style=\"display:none;\">\n",
              "        \n",
              "  <svg xmlns=\"http://www.w3.org/2000/svg\" height=\"24px\"viewBox=\"0 0 24 24\"\n",
              "       width=\"24px\">\n",
              "    <path d=\"M0 0h24v24H0V0z\" fill=\"none\"/>\n",
              "    <path d=\"M18.56 5.44l.94 2.06.94-2.06 2.06-.94-2.06-.94-.94-2.06-.94 2.06-2.06.94zm-11 1L8.5 8.5l.94-2.06 2.06-.94-2.06-.94L8.5 2.5l-.94 2.06-2.06.94zm10 10l.94 2.06.94-2.06 2.06-.94-2.06-.94-.94-2.06-.94 2.06-2.06.94z\"/><path d=\"M17.41 7.96l-1.37-1.37c-.4-.4-.92-.59-1.43-.59-.52 0-1.04.2-1.43.59L10.3 9.45l-7.72 7.72c-.78.78-.78 2.05 0 2.83L4 21.41c.39.39.9.59 1.41.59.51 0 1.02-.2 1.41-.59l7.78-7.78 2.81-2.81c.8-.78.8-2.07 0-2.86zM5.41 20L4 18.59l7.72-7.72 1.47 1.35L5.41 20z\"/>\n",
              "  </svg>\n",
              "      </button>\n",
              "      \n",
              "  <style>\n",
              "    .colab-df-container {\n",
              "      display:flex;\n",
              "      flex-wrap:wrap;\n",
              "      gap: 12px;\n",
              "    }\n",
              "\n",
              "    .colab-df-convert {\n",
              "      background-color: #E8F0FE;\n",
              "      border: none;\n",
              "      border-radius: 50%;\n",
              "      cursor: pointer;\n",
              "      display: none;\n",
              "      fill: #1967D2;\n",
              "      height: 32px;\n",
              "      padding: 0 0 0 0;\n",
              "      width: 32px;\n",
              "    }\n",
              "\n",
              "    .colab-df-convert:hover {\n",
              "      background-color: #E2EBFA;\n",
              "      box-shadow: 0px 1px 2px rgba(60, 64, 67, 0.3), 0px 1px 3px 1px rgba(60, 64, 67, 0.15);\n",
              "      fill: #174EA6;\n",
              "    }\n",
              "\n",
              "    [theme=dark] .colab-df-convert {\n",
              "      background-color: #3B4455;\n",
              "      fill: #D2E3FC;\n",
              "    }\n",
              "\n",
              "    [theme=dark] .colab-df-convert:hover {\n",
              "      background-color: #434B5C;\n",
              "      box-shadow: 0px 1px 3px 1px rgba(0, 0, 0, 0.15);\n",
              "      filter: drop-shadow(0px 1px 2px rgba(0, 0, 0, 0.3));\n",
              "      fill: #FFFFFF;\n",
              "    }\n",
              "  </style>\n",
              "\n",
              "      <script>\n",
              "        const buttonEl =\n",
              "          document.querySelector('#df-a4873d20-1e13-408a-b9a7-30fe560d81a6 button.colab-df-convert');\n",
              "        buttonEl.style.display =\n",
              "          google.colab.kernel.accessAllowed ? 'block' : 'none';\n",
              "\n",
              "        async function convertToInteractive(key) {\n",
              "          const element = document.querySelector('#df-a4873d20-1e13-408a-b9a7-30fe560d81a6');\n",
              "          const dataTable =\n",
              "            await google.colab.kernel.invokeFunction('convertToInteractive',\n",
              "                                                     [key], {});\n",
              "          if (!dataTable) return;\n",
              "\n",
              "          const docLinkHtml = 'Like what you see? Visit the ' +\n",
              "            '<a target=\"_blank\" href=https://colab.research.google.com/notebooks/data_table.ipynb>data table notebook</a>'\n",
              "            + ' to learn more about interactive tables.';\n",
              "          element.innerHTML = '';\n",
              "          dataTable['output_type'] = 'display_data';\n",
              "          await google.colab.output.renderOutput(dataTable, element);\n",
              "          const docLink = document.createElement('div');\n",
              "          docLink.innerHTML = docLinkHtml;\n",
              "          element.appendChild(docLink);\n",
              "        }\n",
              "      </script>\n",
              "    </div>\n",
              "  </div>\n",
              "  "
            ]
          },
          "metadata": {},
          "execution_count": 6
        }
      ],
      "source": [
        "# checking that worked\n",
        "clean_df.head(3)"
      ]
    },
    {
      "source": [
        "## Most Frequent Words for Each Classification"
      ],
      "cell_type": "markdown",
      "metadata": {
        "id": "J0THTOmPrcwz"
      }
    },
    {
      "cell_type": "code",
      "execution_count": 7,
      "metadata": {
        "id": "cZMfKu3ercw1"
      },
      "outputs": [],
      "source": [
        "# creating new dfs for each classification\n",
        "df_freq_hate = clean_df[clean_df['label']==1]\n",
        "df_freq_not_hate = clean_df[clean_df['label']==0]"
      ]
    },
    {
      "cell_type": "code",
      "execution_count": 8,
      "metadata": {
        "id": "N7QUFdZ2rcw4"
      },
      "outputs": [],
      "source": [
        "# pulling out the text data for cleaned tweets\n",
        "data_hate = df_freq_hate['clean_tweets']\n",
        "data_not_hate = df_freq_not_hate['clean_tweets']"
      ]
    },
    {
      "cell_type": "code",
      "execution_count": 11,
      "metadata": {
        "id": "fhcOa67arcw6"
      },
      "outputs": [],
      "source": [
        "# function to tokenize tweets and remove stop words with NLTK built-in library\n",
        "stop_words = set(stopwords.words('english'))\n",
        "def process_tweet(text):\n",
        "    tokens = nltk.word_tokenize(text)\n",
        "    stopwords_removed = [token.lower() for token in tokens if token.lower() not in stop_words]\n",
        "    return stopwords_removed "
      ]
    },
    {
      "cell_type": "code",
      "execution_count": 14,
      "metadata": {
        "id": "UmAR7-atrcw7"
      },
      "outputs": [],
      "source": [
        "# creating lists for processed hate & not hate data\n",
        "process_hate = list(map(process_tweet, data_hate))\n",
        "process_not_hate = list(map(process_tweet, data_not_hate))"
      ]
    },
    {
      "cell_type": "code",
      "execution_count": 15,
      "metadata": {
        "id": "6CZ4Wzbyrcw8",
        "outputId": "ecf0e1fc-0a02-4247-a3ec-ac0262ecf284",
        "colab": {
          "base_uri": "https://localhost:8080/"
        }
      },
      "outputs": [
        {
          "output_type": "execute_result",
          "data": {
            "text/plain": [
              "3368"
            ]
          },
          "metadata": {},
          "execution_count": 15
        }
      ],
      "source": [
        "# exact amount of hate speech\n",
        "total_vocab_hate = set()\n",
        "for comment in process_hate:\n",
        "    total_vocab_hate.update(comment)\n",
        "len(total_vocab_hate)"
      ]
    },
    {
      "cell_type": "code",
      "execution_count": 16,
      "metadata": {
        "id": "yQ912ea0rcw9",
        "outputId": "4a93f9bb-353a-4e47-bc6f-4b1cb519d44b",
        "colab": {
          "base_uri": "https://localhost:8080/"
        }
      },
      "outputs": [
        {
          "output_type": "execute_result",
          "data": {
            "text/plain": [
              "19452"
            ]
          },
          "metadata": {},
          "execution_count": 16
        }
      ],
      "source": [
        "# exact amount of not hate speech\n",
        "total_vocab_NOT_hate = set()\n",
        "for comment in process_not_hate:\n",
        "    total_vocab_NOT_hate.update(comment)\n",
        "len(total_vocab_NOT_hate)"
      ]
    },
    {
      "source": [
        "## Most Common Words in Each Category"
      ],
      "cell_type": "markdown",
      "metadata": {
        "id": "HjL4l71Arcw-"
      }
    },
    {
      "cell_type": "code",
      "execution_count": 17,
      "metadata": {
        "id": "9ijto9vlrcw_"
      },
      "outputs": [],
      "source": [
        "flat_hate = [item for sublist in process_hate for item in sublist]\n",
        "flat_not_hate = [item for sublist in process_not_hate for item in sublist]"
      ]
    },
    {
      "cell_type": "code",
      "execution_count": 18,
      "metadata": {
        "id": "9vR-Z44drcxB"
      },
      "outputs": [],
      "source": [
        "hate_freq = FreqDist(flat_hate)\n",
        "not_hate_freq = FreqDist(flat_not_hate)"
      ]
    },
    {
      "cell_type": "code",
      "execution_count": 19,
      "metadata": {
        "id": "ygJtTE26rcxB",
        "outputId": "fe2fedbe-273c-4860-c04b-693bd4572e7d",
        "colab": {
          "base_uri": "https://localhost:8080/"
        }
      },
      "outputs": [
        {
          "output_type": "execute_result",
          "data": {
            "text/plain": [
              "[('*', 3781),\n",
              " ('f', 371),\n",
              " ('b', 275),\n",
              " ('n', 255),\n",
              " ('fa', 240),\n",
              " ('ch', 209),\n",
              " ('ni', 167),\n",
              " ('like', 167),\n",
              " ('white', 126),\n",
              " ('k', 122),\n",
              " ('er', 112),\n",
              " ('trash', 112),\n",
              " ('u', 104),\n",
              " ('h', 101),\n",
              " ('king', 96),\n",
              " ('dont', 94),\n",
              " ('im', 93),\n",
              " ('get', 69),\n",
              " ('sh', 67),\n",
              " ('youre', 62)]"
            ]
          },
          "metadata": {},
          "execution_count": 19
        }
      ],
      "source": [
        "# Top 20 Hate Speech words:\n",
        "hate_freq.most_common(20)"
      ]
    },
    {
      "cell_type": "code",
      "execution_count": 20,
      "metadata": {
        "id": "L7iYMYLmrcxC",
        "outputId": "6189b1fc-6884-46d3-c8d4-217723636cae",
        "colab": {
          "base_uri": "https://localhost:8080/"
        }
      },
      "outputs": [
        {
          "output_type": "execute_result",
          "data": {
            "text/plain": [
              "[('*', 53313),\n",
              " ('b', 11269),\n",
              " ('ch', 8054),\n",
              " ('h', 4252),\n",
              " ('ches', 3032),\n",
              " ('like', 2601),\n",
              " ('f', 2513),\n",
              " ('n', 2398),\n",
              " ('p', 2111),\n",
              " ('sy', 2059),\n",
              " ('im', 1968),\n",
              " ('dont', 1657),\n",
              " ('got', 1540),\n",
              " ('get', 1359),\n",
              " ('k', 1342),\n",
              " ('sh', 1328),\n",
              " ('u', 1176),\n",
              " ('aint', 1128),\n",
              " ('trash', 1031),\n",
              " ('lol', 1025)]"
            ]
          },
          "metadata": {},
          "execution_count": 20
        }
      ],
      "source": [
        "not_hate_freq.most_common(20)"
      ]
    },
    {
      "source": [
        "## Normalizing Word Frequencies"
      ],
      "cell_type": "markdown",
      "metadata": {
        "id": "lX-e2Z_TrcxC"
      }
    },
    {
      "cell_type": "code",
      "execution_count": 21,
      "metadata": {
        "id": "mh-vn3nLrcxD",
        "outputId": "ebf0f4c2-0479-4307-a570-e9d11cd2aedb",
        "colab": {
          "base_uri": "https://localhost:8080/"
        }
      },
      "outputs": [
        {
          "output_type": "stream",
          "name": "stdout",
          "text": [
            "Hate Word \t Normalized Frequency\n",
            "\n",
            "* \t\t 0.2462\n",
            "f \t\t 0.02416\n",
            "b \t\t 0.01791\n",
            "n \t\t 0.0166\n",
            "fa \t\t 0.01563\n",
            "ch \t\t 0.01361\n",
            "ni \t\t 0.01087\n",
            "like \t\t 0.01087\n",
            "white \t\t 0.008205\n",
            "k \t\t 0.007944\n",
            "er \t\t 0.007293\n",
            "trash \t\t 0.007293\n",
            "u \t\t 0.006772\n",
            "h \t\t 0.006577\n",
            "king \t\t 0.006251\n",
            "dont \t\t 0.006121\n",
            "im \t\t 0.006056\n",
            "get \t\t 0.004493\n",
            "sh \t\t 0.004363\n",
            "youre \t\t 0.004037\n",
            "people \t\t 0.003777\n",
            "ches \t\t 0.003777\n",
            "hate \t\t 0.003712\n",
            "got \t\t 0.003712\n",
            "ers \t\t 0.003581\n"
          ]
        }
      ],
      "source": [
        "hate_total_word_count = sum(hate_freq.values())\n",
        "hate_top_25 = hate_freq.most_common(25)\n",
        "print(\"Hate Word \\t Normalized Frequency\")\n",
        "print()\n",
        "for word in hate_top_25:\n",
        "    normalized_frequency = word[1]/hate_total_word_count\n",
        "    print(\"{} \\t\\t {:.4}\".format(word[0], normalized_frequency))"
      ]
    },
    {
      "cell_type": "code",
      "execution_count": 22,
      "metadata": {
        "id": "Job0mvQercxE",
        "outputId": "8d2fed72-0d4f-4556-d8bf-f51647699ae0",
        "colab": {
          "base_uri": "https://localhost:8080/"
        }
      },
      "outputs": [
        {
          "output_type": "stream",
          "name": "stdout",
          "text": [
            "Not Hate Word \t Normalized Frequency\n",
            "\n",
            "* \t\t 0.2185\n",
            "b \t\t 0.0462\n",
            "ch \t\t 0.03302\n",
            "h \t\t 0.01743\n",
            "ches \t\t 0.01243\n",
            "like \t\t 0.01066\n",
            "f \t\t 0.0103\n",
            "n \t\t 0.00983\n",
            "p \t\t 0.008654\n",
            "sy \t\t 0.008441\n",
            "im \t\t 0.008068\n",
            "dont \t\t 0.006793\n",
            "got \t\t 0.006313\n",
            "get \t\t 0.005571\n",
            "k \t\t 0.005501\n",
            "sh \t\t 0.005444\n",
            "u \t\t 0.004821\n",
            "aint \t\t 0.004624\n",
            "trash \t\t 0.004226\n",
            "lol \t\t 0.004202\n",
            "know \t\t 0.003152\n",
            "love \t\t 0.002734\n",
            "one \t\t 0.002718\n",
            "cant \t\t 0.002591\n",
            "na \t\t 0.002554\n"
          ]
        }
      ],
      "source": [
        "not_hate_total_word_count = sum(not_hate_freq.values())\n",
        "not_hate_top_25 = not_hate_freq.most_common(25)\n",
        "print(\"Not Hate Word \\t Normalized Frequency\")\n",
        "print()\n",
        "for word in not_hate_top_25:\n",
        "    normalized_frequency = word[1]/not_hate_total_word_count\n",
        "    print(\"{} \\t\\t {:.4}\".format(word[0], normalized_frequency))"
      ]
    },
    {
      "source": [
        "### Visualizing Top Word Percentages"
      ],
      "cell_type": "markdown",
      "metadata": {
        "id": "W9-LqmI1rcxF"
      }
    },
    {
      "cell_type": "code",
      "execution_count": 23,
      "metadata": {
        "id": "hCGcbnjLrcxG"
      },
      "outputs": [],
      "source": [
        "# create counts of hate and not hate with values and words\n",
        "hate_bar_counts = [x[1] for x in hate_freq.most_common(20)]\n",
        "hate_bar_words = [x[0] for x in hate_freq.most_common(20)]\n",
        "\n",
        "not_hate_bar_counts = [x[1] for x in not_hate_freq.most_common(20)]\n",
        "not_hate_bar_words = [x[0] for x in not_hate_freq.most_common(20)]"
      ]
    },
    {
      "cell_type": "code",
      "execution_count": 24,
      "metadata": {
        "id": "l5OZALy1rcxG"
      },
      "outputs": [],
      "source": [
        "# set the color of the bar graphs\n",
        "color = cm.magma(np.linspace(.4,.8, 30))"
      ]
    },
    {
      "cell_type": "code",
      "execution_count": 25,
      "metadata": {
        "id": "DR-jgmPzrcxH",
        "outputId": "a1faf718-ee8c-432f-8a54-e26c9fc36c76",
        "colab": {
          "base_uri": "https://localhost:8080/",
          "height": 310
        }
      },
      "outputs": [
        {
          "output_type": "display_data",
          "data": {
            "text/plain": [
              "<Figure size 1008x432 with 2 Axes>"
            ],
            "image/png": "[encoded data removed]"
          },
          "metadata": {
            "needs_background": "light"
          }
        }
      ],
      "source": [
        "new_figure = plt.figure(figsize=(14,6))\n",
        "\n",
        "ax = new_figure.add_subplot(121)\n",
        "ax.invert_yaxis()\n",
        "\n",
        "ax2 = new_figure.add_subplot(122)\n",
        "ax2.invert_yaxis()\n",
        "\n",
        "# generating a bar chart on each axes\n",
        "ax.barh(hate_bar_words, hate_bar_counts, color=color)\n",
        "ax2.barh(not_hate_bar_words, not_hate_bar_counts, color=color)\n",
        "\n",
        "ax.title.set_text('Hate Speech')\n",
        "ax2.title.set_text('Not Hate Speech')\n",
        "\n",
        "for ax in new_figure.axes:\n",
        "    plt.sca(ax)\n",
        "    plt.xticks(rotation=60, fontsize=14)\n",
        "    plt.xlabel(\"Word Count\")\n",
        "    plt.yticks(fontsize=14)\n",
        "plt.tight_layout(pad=2)\n",
        "\n",
        "new_figure.suptitle('Top 20 Most Frequent Words per Label', fontsize=16)\n",
        "\n",
        "plt.savefig('/label_word_count_y.png', bbox_inches = \"tight\", pad_inches=.5)\n",
        "plt.show()"
      ]
    },
    {
      "source": [
        "Linguistically, it's important to note that the difference between hate speech and offensive lanugage often comes down to how it targets marginalized communities, often in threatening ways. \n",
        "\n",
        "For instance, we can notice from this figure that Hate Speech typically contains the N-word with the hard 'R'. The use of this slur indicates far more malicious intent, which goes beyond possibly using the word as slang.\n",
        "\n",
        "Examples like that demonstratee the neuances of English slang and the fine line beteween Hate Speech and offensive language."
      ],
      "cell_type": "markdown",
      "metadata": {
        "id": "cD8x6LNrrcxI"
      }
    },
    {
      "source": [
        "## What Words are Only in Hate Speech?\n",
        "\n",
        "The purpose of this is to check whether the words unique to the \"Hate Speech\" label are threatening or especially derogatory."
      ],
      "cell_type": "markdown",
      "metadata": {
        "id": "ohYsrdcJrcxJ"
      }
    },
    {
      "cell_type": "code",
      "execution_count": 26,
      "metadata": {
        "id": "DuWhvlsircxJ"
      },
      "outputs": [],
      "source": [
        "def returnNotMatches(a, b):\n",
        "    return [x for x in a if x not in b]"
      ]
    },
    {
      "cell_type": "code",
      "execution_count": 27,
      "metadata": {
        "id": "kF_vpEjercxK",
        "outputId": "571360f9-7914-4ae4-ae2c-963af22a8a10",
        "colab": {
          "base_uri": "https://localhost:8080/"
        }
      },
      "outputs": [
        {
          "output_type": "execute_result",
          "data": {
            "text/plain": [
              "['gaywad',\n",
              " 'alsarabsss',\n",
              " 'blacklisted',\n",
              " 'xuccwoetmn',\n",
              " 'ariza',\n",
              " 'drakes',\n",
              " 'nikejordan',\n",
              " 'glitter',\n",
              " 'qctplxhexm',\n",
              " 'jackies',\n",
              " 'stacey',\n",
              " 'evaaaa',\n",
              " 'ohiowhat',\n",
              " 'photoshopped',\n",
              " 'smmfhi',\n",
              " 'aryan',\n",
              " 'mongerls',\n",
              " 'slum',\n",
              " 'spicskkk',\n",
              " 'deeeeaaaadd',\n",
              " 'cheslook',\n",
              " 'sixes',\n",
              " 'noneuropeans',\n",
              " 'farmers',\n",
              " 'straightgt',\n",
              " 'genetic',\n",
              " 'engineering',\n",
              " 'clones',\n",
              " 'alls',\n",
              " 'pontiac',\n",
              " 'sprinkler',\n",
              " 'naacp',\n",
              " 'merely',\n",
              " 'indicator',\n",
              " 'wronggt',\n",
              " 'indiviuals',\n",
              " 'banner',\n",
              " 'foolishness',\n",
              " 'agg',\n",
              " 'fkkk',\n",
              " 'recruited',\n",
              " 'buku',\n",
              " 'warehouse',\n",
              " 'gaywrites',\n",
              " 'malt',\n",
              " 'dammn',\n",
              " 'potheads',\n",
              " 'charging',\n",
              " 'weirdos',\n",
              " 'retweeettt',\n",
              " 'chood',\n",
              " 'happppppy',\n",
              " 'bihdayyyy',\n",
              " 'chuu',\n",
              " 'baka',\n",
              " 'lvndrdppqt',\n",
              " 'pharrell',\n",
              " 'zlpfzsitom',\n",
              " 'bazinga',\n",
              " 'aaaaaaaaand',\n",
              " 'begins',\n",
              " 'panthers',\n",
              " 'hijack',\n",
              " 'presser',\n",
              " 'rhode',\n",
              " 'peds',\n",
              " 'roid',\n",
              " 'causung',\n",
              " 'mischief',\n",
              " 'propery',\n",
              " 'panthers',\n",
              " 'nicely',\n",
              " 'teammate',\n",
              " 'zzzzzz',\n",
              " 'yeawhat',\n",
              " 'hypebeasts',\n",
              " 'knockdowns',\n",
              " 'coez',\n",
              " 'brits',\n",
              " 'itwas',\n",
              " 'styl',\n",
              " 'faaaaggggottttt',\n",
              " 'goddam',\n",
              " 'butthole',\n",
              " 'placement',\n",
              " 'pinkfor',\n",
              " 'protectedby',\n",
              " 'bearing',\n",
              " 'enraged',\n",
              " 'weapon',\n",
              " 'legshis',\n",
              " 'bias',\n",
              " 'benghazzi',\n",
              " 'nws',\n",
              " 'drreams',\n",
              " 'soca',\n",
              " 'heyyyyyyyyyyy',\n",
              " 'sopa',\n",
              " 'julie',\n",
              " 'facedni',\n",
              " 'roid',\n",
              " 'americathey',\n",
              " 'vaca',\n",
              " 'ganks',\n",
              " 'ganks',\n",
              " 'mao',\n",
              " 'shills',\n",
              " 'monkies',\n",
              " 'theyfa',\n",
              " 'juvie',\n",
              " 'coherent',\n",
              " 'acknowledged',\n",
              " 'barnyard',\n",
              " 'randies',\n",
              " 'ovenjew',\n",
              " 'encrusted',\n",
              " 'butcountry',\n",
              " 'listeners',\n",
              " 'alcoholics',\n",
              " 'niger',\n",
              " 'thomoboth',\n",
              " 'fairly',\n",
              " 'lucas',\n",
              " 'dans',\n",
              " 'madonnas',\n",
              " 'blaspheme',\n",
              " 'soxs',\n",
              " 'delbe',\n",
              " 'belton',\n",
              " 'islamofascist',\n",
              " 'reto',\n",
              " 'idiocy',\n",
              " 'ians',\n",
              " 'whse',\n",
              " 'mgr',\n",
              " 'girlboy',\n",
              " 'pulledthat',\n",
              " 'spon',\n",
              " 'ebloa',\n",
              " 'mouthy',\n",
              " 'flattering',\n",
              " 'maoists',\n",
              " 'terroristscongies',\n",
              " 'aklve',\n",
              " 'geta',\n",
              " 'shabbat',\n",
              " 'heil',\n",
              " 'sandusky',\n",
              " 'preparations',\n",
              " 'witcho',\n",
              " 'balless',\n",
              " 'aryan',\n",
              " 'dealcry',\n",
              " 'repping',\n",
              " 'mccaney',\n",
              " 'ragheads',\n",
              " 'inspect',\n",
              " 'haiti',\n",
              " 'tourers',\n",
              " 'whooooo',\n",
              " 'chelsey',\n",
              " 'faze',\n",
              " 'wagging',\n",
              " 'ahmed',\n",
              " 'olympic',\n",
              " 'calld',\n",
              " 'usen',\n",
              " 'brainwash',\n",
              " 'pickananny',\n",
              " 'believes',\n",
              " 'extender',\n",
              " 'medal',\n",
              " 'medal',\n",
              " 'selfhating',\n",
              " 'gds',\n",
              " 'fathom',\n",
              " 'outgt',\n",
              " 'wannabecommunewithoutrailroad',\n",
              " 'stategt',\n",
              " 'constituants',\n",
              " 'ofmine',\n",
              " 'infatuation',\n",
              " 'hebrew',\n",
              " 'kbye',\n",
              " 'skidmarks',\n",
              " 'nonenglish',\n",
              " 'lollis',\n",
              " 'premium',\n",
              " 'drakes',\n",
              " 'farve',\n",
              " 'stuckup',\n",
              " 'zak',\n",
              " 'nbfaarxvrp',\n",
              " 'woohoo',\n",
              " 'panthers',\n",
              " 'mallet',\n",
              " 'ballless',\n",
              " 'dickwad',\n",
              " 'capital',\n",
              " 'jamie',\n",
              " 'apostate',\n",
              " 'kufargti',\n",
              " 'cld',\n",
              " 'wsword',\n",
              " 'overrun',\n",
              " 'mongrels',\n",
              " 'perish',\n",
              " 'fuggin',\n",
              " 'reside',\n",
              " 'fqyxljyiet',\n",
              " 'antiracist',\n",
              " 'codeword',\n",
              " 'antizionist',\n",
              " 'codeword',\n",
              " 'antisemite',\n",
              " 'reverend',\n",
              " 'monkeys',\n",
              " 'minstrel',\n",
              " 'sewer',\n",
              " 'jock',\n",
              " 'jigaboos',\n",
              " 'homewreckers',\n",
              " 'argentino',\n",
              " 'bundle',\n",
              " 'hoodrats',\n",
              " 'japped',\n",
              " 'username',\n",
              " 'tusks',\n",
              " 'vhia',\n",
              " 'beetle',\n",
              " 'ntx',\n",
              " 'bernstine',\n",
              " 'banwagoning',\n",
              " 'retared',\n",
              " 'oppressing',\n",
              " 'shoving',\n",
              " 'lifestyle',\n",
              " 'rasta',\n",
              " 'magazine',\n",
              " 'chromeasome',\n",
              " 'kindergarden',\n",
              " 'nebraska',\n",
              " 'gayer',\n",
              " 'wrongbut',\n",
              " 'niggress',\n",
              " 'ethiopian',\n",
              " 'minorities',\n",
              " 'criminally',\n",
              " 'inclined',\n",
              " 'milwaukie',\n",
              " 'bikes',\n",
              " 'duis',\n",
              " 'isolated',\n",
              " 'hamster',\n",
              " 'obese',\n",
              " 'genos',\n",
              " 'cement',\n",
              " 'taxing',\n",
              " 'gobbling',\n",
              " 'boringhack',\n",
              " 'mohamed',\n",
              " 'splease',\n",
              " 'welldid',\n",
              " 'spaz',\n",
              " 'amigo',\n",
              " 'ballsack',\n",
              " 'lego',\n",
              " 'goldbar',\n",
              " 'route',\n",
              " 'grier',\n",
              " 'uf',\n",
              " 'monkeys',\n",
              " 'cspan',\n",
              " 'deeds',\n",
              " 'wher',\n",
              " 'imperfections',\n",
              " 'standn',\n",
              " 'mideast',\n",
              " 'combined',\n",
              " 'rt',\n",
              " 'indentured',\n",
              " 'servant',\n",
              " 'apaches',\n",
              " 'tomato',\n",
              " 'hayseed',\n",
              " 'yaselves',\n",
              " 'jcyzzmkcfu',\n",
              " 'barge',\n",
              " 'dkvnjmcarz',\n",
              " 'dds',\n",
              " 'odb',\n",
              " 'mma',\n",
              " 'aflcio',\n",
              " 'durags',\n",
              " 'anglo',\n",
              " 'zigeuner',\n",
              " 'rapists',\n",
              " 'coworkeri',\n",
              " 'knowur',\n",
              " 'skater',\n",
              " 'gazelles',\n",
              " 'ceasefirelets',\n",
              " 'celtic',\n",
              " 'celtic',\n",
              " 'chcgo',\n",
              " 'blck',\n",
              " 'pstr',\n",
              " 'dth',\n",
              " 'ovr',\n",
              " 'endorsement',\n",
              " 'ngger',\n",
              " 'vcbwzkyedv',\n",
              " 'hairstyle',\n",
              " 'polynesians',\n",
              " 'deedee',\n",
              " 'timmys',\n",
              " 'devin',\n",
              " 'hesters',\n",
              " 'peoplehate',\n",
              " 'eda',\n",
              " 'gzzrzjvvlv',\n",
              " 'hiring',\n",
              " 'sophi',\n",
              " 'astupid',\n",
              " 'chinatown',\n",
              " 'bulldozed',\n",
              " 'halfbreeds',\n",
              " 'deen',\n",
              " 'faux',\n",
              " 'pundits',\n",
              " 'molester',\n",
              " 'proslavery',\n",
              " 'darling',\n",
              " 'faux',\n",
              " 'pundits',\n",
              " 'molester',\n",
              " 'proslavery',\n",
              " 'homophobic',\n",
              " 'darling',\n",
              " 'xxehphwwwr',\n",
              " 'lotto',\n",
              " 'fredo',\n",
              " 'radical',\n",
              " 'lexii',\n",
              " 'fitz',\n",
              " 'batsh',\n",
              " 'maryland',\n",
              " 'invites',\n",
              " 'dumby',\n",
              " 'yt',\n",
              " 'received',\n",
              " 'laughable',\n",
              " 'mernin',\n",
              " 'segal',\n",
              " 'ponytails',\n",
              " 'schitt',\n",
              " 'buckcity',\n",
              " 'conduct',\n",
              " 'mkay',\n",
              " 'confronts',\n",
              " 'thnk',\n",
              " 'wishywashy',\n",
              " 'nochill',\n",
              " 'forsake',\n",
              " 'texarkana',\n",
              " 'arkansas',\n",
              " 'clearer',\n",
              " 'nqsyeqhgoz',\n",
              " 'buffets',\n",
              " 'nigas',\n",
              " 'likea',\n",
              " 'goose',\n",
              " 'happenings',\n",
              " 'worryol',\n",
              " 'sidekicklike',\n",
              " 'anon',\n",
              " 'therelike',\n",
              " 'goper',\n",
              " 'doubles',\n",
              " 'backpedals',\n",
              " 'qwlpxxsuib',\n",
              " 'trigonometric',\n",
              " 'macs',\n",
              " 'amazement',\n",
              " 'injust',\n",
              " 'migrating',\n",
              " 'libey',\n",
              " 'helpful',\n",
              " 'parenthetical',\n",
              " 'explanation',\n",
              " 'protestant',\n",
              " 'cultist',\n",
              " 'bisexual',\n",
              " 'oblige',\n",
              " 'accord',\n",
              " 'radical',\n",
              " 'leftists',\n",
              " 'willed',\n",
              " 'everycunt',\n",
              " 'lawrences',\n",
              " 'jpkdkpbjxh',\n",
              " 'osamas',\n",
              " 'kip',\n",
              " 'tokuda',\n",
              " 'erize',\n",
              " 'pd',\n",
              " 'crusader',\n",
              " 'lrg',\n",
              " 'hoomie',\n",
              " 'libey',\n",
              " 'httpstcogsghizmdmw',\n",
              " 'regionally',\n",
              " 'picky',\n",
              " 'clout',\n",
              " 'youuuuu',\n",
              " 'manhood',\n",
              " 'lynch',\n",
              " 'ducked',\n",
              " 'lid',\n",
              " 'defence',\n",
              " 'sheboons',\n",
              " 'nontraditional',\n",
              " 'religions',\n",
              " 'heterosexual',\n",
              " 'bots',\n",
              " 'limelight',\n",
              " 'ljrqrdbmfi',\n",
              " 'trannygo',\n",
              " 'darky',\n",
              " 'niccacall',\n",
              " 'ps',\n",
              " 'wacthh',\n",
              " 'nahhhhhaahahahaha',\n",
              " 'anglo',\n",
              " 'psychiatry',\n",
              " 'immoral',\n",
              " 'hires',\n",
              " 'gypsies',\n",
              " 'halfbreeds',\n",
              " 'nigglets',\n",
              " 'prestigious',\n",
              " 'establishments',\n",
              " 'okcupid',\n",
              " 'faves',\n",
              " 'qtfjraijwn',\n",
              " 'shesaid',\n",
              " 'upenn',\n",
              " 'dss',\n",
              " 'kry',\n",
              " 'hindis',\n",
              " 'moslems',\n",
              " 'aaronmacgruder',\n",
              " 'ahhhahahaha',\n",
              " 'pantera',\n",
              " 'boyill',\n",
              " 'lustboy',\n",
              " 'kakao',\n",
              " 'tsm',\n",
              " 'pennsylvanians',\n",
              " 'peasant',\n",
              " 'unwashed',\n",
              " 'phillip',\n",
              " 'absolved',\n",
              " 'fieldssuburbs',\n",
              " 'timatheracer',\n",
              " 'swags',\n",
              " 'crazysome',\n",
              " 'idfk',\n",
              " 'gee',\n",
              " 'baiters',\n",
              " 'maryland',\n",
              " 'phelps',\n",
              " 'lotto',\n",
              " 'trashiest',\n",
              " 'nazis',\n",
              " 'alaqsa',\n",
              " 'perceived',\n",
              " 'injustice',\n",
              " 'asphalt',\n",
              " 'chava',\n",
              " 'infest',\n",
              " 'genos',\n",
              " 'cob',\n",
              " 'stereotypi',\n",
              " 'kawhi',\n",
              " 'leonard',\n",
              " 'tittyy',\n",
              " 'pwi',\n",
              " 'teabagged',\n",
              " 'invader',\n",
              " 'zim',\n",
              " 'phillips',\n",
              " 'eybwlvukim',\n",
              " 'rejects',\n",
              " 'beta',\n",
              " 'democr',\n",
              " 'gainz',\n",
              " 'mirin',\n",
              " 'lxonrmtqtk',\n",
              " 'restau',\n",
              " 'pigf',\n",
              " 'rambling',\n",
              " 'lawless',\n",
              " 'lustful',\n",
              " 'erous',\n",
              " 'sickening',\n",
              " 'bromance',\n",
              " 'whomp',\n",
              " 'honour',\n",
              " 'influenced',\n",
              " 'enteains',\n",
              " 'ove',\n",
              " 'saidgtgtgt',\n",
              " 'inviting',\n",
              " 'traditions',\n",
              " 'furrybah',\n",
              " 'paypay',\n",
              " 'bdubs',\n",
              " 'activity',\n",
              " 'rancho',\n",
              " 'impersonators',\n",
              " 'tmt',\n",
              " 'legitimizing',\n",
              " 'lifestyle',\n",
              " 'stds',\n",
              " 'deviancy',\n",
              " 'tragedy',\n",
              " 'apaheid',\n",
              " 'pedestrian',\n",
              " 'snipe',\n",
              " 'immune',\n",
              " 'vin',\n",
              " 'scully',\n",
              " 'condone',\n",
              " 'activity',\n",
              " 'placing',\n",
              " 'knowwww',\n",
              " 'jawga',\n",
              " 'tapout',\n",
              " 'flattering',\n",
              " 'clash',\n",
              " 'clans',\n",
              " 'kamikaze',\n",
              " 'judged',\n",
              " 'suspicious',\n",
              " 'printers',\n",
              " 'printer',\n",
              " 'pghisydeyb',\n",
              " 'cracks',\n",
              " 'chimpout',\n",
              " 'summers',\n",
              " 'aged',\n",
              " 'salvadoran',\n",
              " 'metlife',\n",
              " 'hesitation',\n",
              " 'hd',\n",
              " 'bearfaced',\n",
              " 'yusa',\n",
              " 'powered',\n",
              " 'yamming',\n",
              " 'straggots',\n",
              " 'honcho',\n",
              " 'pickers',\n",
              " 'unselfish',\n",
              " 'stalkin',\n",
              " 'goddamit',\n",
              " 'fuuck',\n",
              " 'jalens',\n",
              " 'dicklicker',\n",
              " 'homophobic',\n",
              " 'queersi',\n",
              " 'fudg',\n",
              " 'parasites',\n",
              " 'kennies',\n",
              " 'notices',\n",
              " 'hahahahahahaha',\n",
              " 'comthablesmh',\n",
              " 'templars',\n",
              " 'reptile',\n",
              " 'healedback',\n",
              " 'tunwhat',\n",
              " 'romeo',\n",
              " 'zipperheads',\n",
              " 'coulter',\n",
              " 'bibles',\n",
              " 'mexicanni',\n",
              " 'digital',\n",
              " 'whitest',\n",
              " 'californias',\n",
              " 'ep',\n",
              " 'knooooooow',\n",
              " 'bidens',\n",
              " 'husbandry',\n",
              " 'hitched',\n",
              " 'hound',\n",
              " 'misty',\n",
              " 'flinched',\n",
              " 'catholics',\n",
              " 'catholics',\n",
              " 'orchids',\n",
              " 'donts',\n",
              " 'plantation',\n",
              " 'witcho',\n",
              " 'boris',\n",
              " 'bran',\n",
              " 'nuuring',\n",
              " 'arounds',\n",
              " 'wenchs',\n",
              " 'fairytale',\n",
              " 'hebrew',\n",
              " 'zion',\n",
              " 'mayoral',\n",
              " 'nonwhites',\n",
              " 'tsf',\n",
              " 'rwhgmrlazx',\n",
              " 'seegt',\n",
              " 'linegt',\n",
              " 'creation',\n",
              " 'swill',\n",
              " 'sexist',\n",
              " 'teabaggerswho',\n",
              " 'antics',\n",
              " 'accuracy',\n",
              " 'phelps',\n",
              " 'soetoroobama',\n",
              " 'downsize',\n",
              " 'oppressive',\n",
              " 'nooooooo',\n",
              " 'sonnen',\n",
              " 'backtrack',\n",
              " 'huff',\n",
              " 'lucricus',\n",
              " 'dagger',\n",
              " 'stu',\n",
              " 'gjkxmziizs',\n",
              " 'agegt',\n",
              " 'circulated',\n",
              " 'clashes',\n",
              " 'midwest',\n",
              " 'arrow',\n",
              " 'leftisthomosexual',\n",
              " 'infiltration',\n",
              " 'priesthood',\n",
              " 'boyraping',\n",
              " 'nations',\n",
              " 'historically',\n",
              " 'thiies',\n",
              " 'dietoday',\n",
              " 'rabchenko',\n",
              " 'transmitter',\n",
              " 'cycdbhbxkq',\n",
              " 'rfn',\n",
              " 'idaho',\n",
              " 'receptionthis',\n",
              " 'typically',\n",
              " 'antichristian',\n",
              " 'melisa',\n",
              " 'erwin',\n",
              " 'vanessa',\n",
              " 'sycksyllables',\n",
              " 'stoopid',\n",
              " 'reconnaissance',\n",
              " 'wooooow',\n",
              " 'peckin',\n",
              " 'ricans',\n",
              " 'donts',\n",
              " 'axin',\n",
              " 'aslina',\n",
              " 'caused',\n",
              " 'midlaner',\n",
              " 'ramlogan',\n",
              " 'uwi',\n",
              " 'doughnuts',\n",
              " 'hollering',\n",
              " 'posmouth',\n",
              " 'yougt',\n",
              " 'radical',\n",
              " 'bittersalty',\n",
              " 'kheads',\n",
              " 'benton',\n",
              " 'carve',\n",
              " 'bateman',\n",
              " 'sistas',\n",
              " 'tutors',\n",
              " 'tas',\n",
              " 'oversensitive',\n",
              " 'waahh',\n",
              " 'waahh',\n",
              " 'yrold',\n",
              " 'gezus',\n",
              " 'randos',\n",
              " 'grindr',\n",
              " 'boyyyyyy',\n",
              " 'subordinate',\n",
              " 'caghblkaxq',\n",
              " 'mariachi',\n",
              " 'fendi',\n",
              " 'styles',\n",
              " 'moccasin',\n",
              " 'hjhdyhdhlgjdftilh',\n",
              " 'chyna',\n",
              " 'syed',\n",
              " 'receptionist',\n",
              " 'kraut',\n",
              " 'towelhead']"
            ]
          },
          "metadata": {},
          "execution_count": 27
        }
      ],
      "source": [
        "returnNotMatches(flat_hate, flat_not_hate)"
      ]
    },
    {
      "source": [
        "As expected, a majority of these are racist, sexist and homophobic slurs that exceed cultural slang. The fact that these words are unique to the \"Hate Speech\" label affirm that it's indeed hate speech that should be flagged and taken down."
      ],
      "cell_type": "markdown",
      "metadata": {
        "id": "Utw6hCMzrcxL"
      }
    },
    {
      "source": [
        "## Visualizing Unique Words with Venn Diagram"
      ],
      "cell_type": "markdown",
      "metadata": {
        "id": "_DhyVZixrcxL"
      }
    },
    {
      "cell_type": "code",
      "execution_count": 28,
      "metadata": {
        "id": "86bIoNSHrcxM"
      },
      "outputs": [],
      "source": [
        "import matplotlib_venn as venn\n",
        "from matplotlib_venn import venn2, venn2_circles, venn3, venn3_circles\n",
        "import matplotlib.pyplot as plt"
      ]
    },
    {
      "cell_type": "code",
      "execution_count": 29,
      "metadata": {
        "id": "19VH6CPBrcxN",
        "outputId": "b6b4c14e-86c3-41e8-e9fe-3ee7e154d390",
        "colab": {
          "base_uri": "https://localhost:8080/",
          "height": 268
        }
      },
      "outputs": [
        {
          "output_type": "display_data",
          "data": {
            "text/plain": [
              "<Figure size 432x288 with 1 Axes>"
            ],
            "image/png": "[encoded data removed]"
          },
          "metadata": {}
        }
      ],
      "source": [
        "venn2([set(flat_hate), set(flat_not_hate)], set_labels = ('Hate Speech', 'Not Hate Speech'))\n",
        "plt.title('Comparison of Unique Words in Each Corpus Label')\n",
        "plt.savefig('/word_venn.png', bbox_inches = \"tight\", pad_inches=.5)"
      ]
    },
    {
      "source": [
        "## Word Clouds"
      ],
      "cell_type": "markdown",
      "metadata": {
        "id": "G0BwygwIrcxO"
      }
    },
    {
      "cell_type": "code",
      "execution_count": 30,
      "metadata": {
        "id": "1W4fRdPprcxP"
      },
      "outputs": [],
      "source": [
        "from wordcloud import WordCloud\n",
        "hate_dict = dict(zip(hate_bar_words, hate_bar_counts))\n",
        "not_hate_dict = dict(zip(not_hate_bar_words, not_hate_bar_counts))"
      ]
    },
    {
      "cell_type": "code",
      "execution_count": 31,
      "metadata": {
        "id": "LAXq306LrcxQ",
        "outputId": "a22cba73-cbdd-46eb-f4dd-d830747c8583",
        "colab": {
          "base_uri": "https://localhost:8080/",
          "height": 247
        }
      },
      "outputs": [
        {
          "output_type": "display_data",
          "data": {
            "text/plain": [
              "<Figure size 432x432 with 1 Axes>"
            ],
            "image/png": "[encoded data removed]"
          },
          "metadata": {}
        }
      ],
      "source": [
        "# create the word cloud:\n",
        "wordcloud = WordCloud(colormap='Spectral').generate_from_frequencies(hate_dict)\n",
        "\n",
        "# Display the generated image w/ matplotlib:\n",
        "plt.figure(figsize=(6,6), facecolor='k')\n",
        "plt.imshow(wordcloud, interpolation='bilinear')\n",
        "plt.axis(\"off\")\n",
        "plt.tight_layout(pad=0)\n",
        "\n",
        "# Uncomment the next line if you want to save your image:\n",
        "# plt.savefig('satire_wordcloud.png')\n",
        "\n",
        "plt.show()"
      ]
    },
    {
      "cell_type": "code",
      "execution_count": 32,
      "metadata": {
        "id": "sG18uT14rcxR",
        "outputId": "b8e2b8e9-40f0-4ee0-ebed-732c5ac3c44e",
        "colab": {
          "base_uri": "https://localhost:8080/",
          "height": 247
        }
      },
      "outputs": [
        {
          "output_type": "display_data",
          "data": {
            "text/plain": [
              "<Figure size 432x432 with 1 Axes>"
            ],
            "image/png": "[encoded data removed]"
          },
          "metadata": {}
        }
      ],
      "source": [
        "wordcloud = WordCloud(colormap='Spectral').generate_from_frequencies(not_hate_dict)\n",
        "\n",
        "plt.figure(figsize=(6,6), facecolor='k')\n",
        "plt.imshow(wordcloud, interpolation='bilinear')\n",
        "plt.axis(\"off\")\n",
        "plt.tight_layout(pad=0)\n",
        "# plt.savefig('not_satire_wordcloud.png')\n",
        "\n",
        "plt.show()"
      ]
    },
    {
      "source": [
        "These word clouds are pretty much unusable on public-facing documents, but they tell us that the top words for each label are very similar. It may be hard for the models to differentiate beteween what can be classified as hate speech or not."
      ],
      "cell_type": "markdown",
      "metadata": {
        "id": "3tviEaDFrcxR"
      }
    },
    {
      "source": [
        "## Tweet Cloud of Most Frequent Words in Corpus"
      ],
      "cell_type": "markdown",
      "metadata": {
        "id": "brxYAY53rcxS"
      }
    },
    {
      "cell_type": "code",
      "execution_count": 33,
      "metadata": {
        "id": "QcbOT96NrcxS"
      },
      "outputs": [],
      "source": [
        "tweet_df = clean_df[['clean_tweets', 'label']].copy()"
      ]
    },
    {
      "cell_type": "code",
      "execution_count": 34,
      "metadata": {
        "id": "_6BSk8a_rcxT"
      },
      "outputs": [],
      "source": [
        "tweet_df.to_csv('/corpus.txt', sep='\\t')"
      ]
    },
    {
      "cell_type": "code",
      "execution_count": 40,
      "metadata": {
        "id": "di7rgDtvrcxT"
      },
      "outputs": [],
      "source": [
        "import stylecloud\n",
        "stylecloud.gen_stylecloud(file_path = '/corpus.txt', icon_name= 'fab fa-twitter', collocations=False, output_name = \"/icon_cloud.png\")"
      ]
    },
    {
      "source": [
        "![tweet_cloud](https://github.com/eba57/twitter_hate_speech_detection/blob/master/visualizations/icon_cloud.png?raw=1)"
      ],
      "cell_type": "markdown",
      "metadata": {
        "id": "19Vwn38GrcxU"
      }
    },
    {
      "source": [
        "We can't really use this anywhere, but this was more just for fun :)"
      ],
      "cell_type": "markdown",
      "metadata": {
        "id": "c2vi4A_SrcxU"
      }
    },
    {
      "source": [
        "## CrowdFlower Votes\n",
        "\n",
        "The first 3 columns of the dataframe indicate how many votes went into decided each label. Each tweet's label was decided by majority-rules. Let's see if we can pull any useful information from these columns."
      ],
      "cell_type": "markdown",
      "metadata": {
        "id": "BND_oYRIrcxV"
      }
    },
    {
      "cell_type": "code",
      "execution_count": 41,
      "metadata": {
        "id": "CVKftna1rcxW",
        "outputId": "bb5473fb-c07a-4ef7-d594-d43d8c42ddd1",
        "colab": {
          "base_uri": "https://localhost:8080/",
          "height": 344
        }
      },
      "outputs": [
        {
          "output_type": "execute_result",
          "data": {
            "text/plain": [
              "   total_votes  hate_speech_votes  other_votes  label  \\\n",
              "0            3                  0            3      0   \n",
              "1            3                  0            3      0   \n",
              "2            3                  0            3      0   \n",
              "\n",
              "                                               tweet  \\\n",
              "0  !!! RT @mayasolovely: As a woman you shouldn't...   \n",
              "1  !!!!! RT @mleew17: boy dats cold...tyga dwn ba...   \n",
              "2  !!!!!!! RT @UrKindOfBrand Dawg!!!! RT @80sbaby...   \n",
              "\n",
              "                                        clean_tweets  \n",
              "0     as a woman you shouldnt complain about clea...  \n",
              "1     boy dats coldtyga dwn bad for cuffin dat h*...  \n",
              "2     dawg   you ever f**k a b**ch and she sta to...  "
            ],
            "text/html": [
              "\n",
              "  <div id=\"df-3086c8aa-378c-4c00-b127-4f9ff6208390\">\n",
              "    <div class=\"colab-df-container\">\n",
              "      <div>\n",
              "<style scoped>\n",
              "    .dataframe tbody tr th:only-of-type {\n",
              "        vertical-align: middle;\n",
              "    }\n",
              "\n",
              "    .dataframe tbody tr th {\n",
              "        vertical-align: top;\n",
              "    }\n",
              "\n",
              "    .dataframe thead th {\n",
              "        text-align: right;\n",
              "    }\n",
              "</style>\n",
              "<table border=\"1\" class=\"dataframe\">\n",
              "  <thead>\n",
              "    <tr style=\"text-align: right;\">\n",
              "      <th></th>\n",
              "      <th>total_votes</th>\n",
              "      <th>hate_speech_votes</th>\n",
              "      <th>other_votes</th>\n",
              "      <th>label</th>\n",
              "      <th>tweet</th>\n",
              "      <th>clean_tweets</th>\n",
              "    </tr>\n",
              "  </thead>\n",
              "  <tbody>\n",
              "    <tr>\n",
              "      <th>0</th>\n",
              "      <td>3</td>\n",
              "      <td>0</td>\n",
              "      <td>3</td>\n",
              "      <td>0</td>\n",
              "      <td>!!! RT @mayasolovely: As a woman you shouldn't...</td>\n",
              "      <td>as a woman you shouldnt complain about clea...</td>\n",
              "    </tr>\n",
              "    <tr>\n",
              "      <th>1</th>\n",
              "      <td>3</td>\n",
              "      <td>0</td>\n",
              "      <td>3</td>\n",
              "      <td>0</td>\n",
              "      <td>!!!!! RT @mleew17: boy dats cold...tyga dwn ba...</td>\n",
              "      <td>boy dats coldtyga dwn bad for cuffin dat h*...</td>\n",
              "    </tr>\n",
              "    <tr>\n",
              "      <th>2</th>\n",
              "      <td>3</td>\n",
              "      <td>0</td>\n",
              "      <td>3</td>\n",
              "      <td>0</td>\n",
              "      <td>!!!!!!! RT @UrKindOfBrand Dawg!!!! RT @80sbaby...</td>\n",
              "      <td>dawg   you ever f**k a b**ch and she sta to...</td>\n",
              "    </tr>\n",
              "  </tbody>\n",
              "</table>\n",
              "</div>\n",
              "      <button class=\"colab-df-convert\" onclick=\"convertToInteractive('df-3086c8aa-378c-4c00-b127-4f9ff6208390')\"\n",
              "              title=\"Convert this dataframe to an interactive table.\"\n",
              "              style=\"display:none;\">\n",
              "        \n",
              "  <svg xmlns=\"http://www.w3.org/2000/svg\" height=\"24px\"viewBox=\"0 0 24 24\"\n",
              "       width=\"24px\">\n",
              "    <path d=\"M0 0h24v24H0V0z\" fill=\"none\"/>\n",
              "    <path d=\"M18.56 5.44l.94 2.06.94-2.06 2.06-.94-2.06-.94-.94-2.06-.94 2.06-2.06.94zm-11 1L8.5 8.5l.94-2.06 2.06-.94-2.06-.94L8.5 2.5l-.94 2.06-2.06.94zm10 10l.94 2.06.94-2.06 2.06-.94-2.06-.94-.94-2.06-.94 2.06-2.06.94z\"/><path d=\"M17.41 7.96l-1.37-1.37c-.4-.4-.92-.59-1.43-.59-.52 0-1.04.2-1.43.59L10.3 9.45l-7.72 7.72c-.78.78-.78 2.05 0 2.83L4 21.41c.39.39.9.59 1.41.59.51 0 1.02-.2 1.41-.59l7.78-7.78 2.81-2.81c.8-.78.8-2.07 0-2.86zM5.41 20L4 18.59l7.72-7.72 1.47 1.35L5.41 20z\"/>\n",
              "  </svg>\n",
              "      </button>\n",
              "      \n",
              "  <style>\n",
              "    .colab-df-container {\n",
              "      display:flex;\n",
              "      flex-wrap:wrap;\n",
              "      gap: 12px;\n",
              "    }\n",
              "\n",
              "    .colab-df-convert {\n",
              "      background-color: #E8F0FE;\n",
              "      border: none;\n",
              "      border-radius: 50%;\n",
              "      cursor: pointer;\n",
              "      display: none;\n",
              "      fill: #1967D2;\n",
              "      height: 32px;\n",
              "      padding: 0 0 0 0;\n",
              "      width: 32px;\n",
              "    }\n",
              "\n",
              "    .colab-df-convert:hover {\n",
              "      background-color: #E2EBFA;\n",
              "      box-shadow: 0px 1px 2px rgba(60, 64, 67, 0.3), 0px 1px 3px 1px rgba(60, 64, 67, 0.15);\n",
              "      fill: #174EA6;\n",
              "    }\n",
              "\n",
              "    [theme=dark] .colab-df-convert {\n",
              "      background-color: #3B4455;\n",
              "      fill: #D2E3FC;\n",
              "    }\n",
              "\n",
              "    [theme=dark] .colab-df-convert:hover {\n",
              "      background-color: #434B5C;\n",
              "      box-shadow: 0px 1px 3px 1px rgba(0, 0, 0, 0.15);\n",
              "      filter: drop-shadow(0px 1px 2px rgba(0, 0, 0, 0.3));\n",
              "      fill: #FFFFFF;\n",
              "    }\n",
              "  </style>\n",
              "\n",
              "      <script>\n",
              "        const buttonEl =\n",
              "          document.querySelector('#df-3086c8aa-378c-4c00-b127-4f9ff6208390 button.colab-df-convert');\n",
              "        buttonEl.style.display =\n",
              "          google.colab.kernel.accessAllowed ? 'block' : 'none';\n",
              "\n",
              "        async function convertToInteractive(key) {\n",
              "          const element = document.querySelector('#df-3086c8aa-378c-4c00-b127-4f9ff6208390');\n",
              "          const dataTable =\n",
              "            await google.colab.kernel.invokeFunction('convertToInteractive',\n",
              "                                                     [key], {});\n",
              "          if (!dataTable) return;\n",
              "\n",
              "          const docLinkHtml = 'Like what you see? Visit the ' +\n",
              "            '<a target=\"_blank\" href=https://colab.research.google.com/notebooks/data_table.ipynb>data table notebook</a>'\n",
              "            + ' to learn more about interactive tables.';\n",
              "          element.innerHTML = '';\n",
              "          dataTable['output_type'] = 'display_data';\n",
              "          await google.colab.output.renderOutput(dataTable, element);\n",
              "          const docLink = document.createElement('div');\n",
              "          docLink.innerHTML = docLinkHtml;\n",
              "          element.appendChild(docLink);\n",
              "        }\n",
              "      </script>\n",
              "    </div>\n",
              "  </div>\n",
              "  "
            ]
          },
          "metadata": {},
          "execution_count": 41
        }
      ],
      "source": [
        "clean_df.head(3)"
      ]
    },
    {
      "cell_type": "code",
      "execution_count": 42,
      "metadata": {
        "id": "QwhHPtL1rcxX",
        "outputId": "f7155f06-2815-4631-bbdb-71585ef506c7",
        "colab": {
          "base_uri": "https://localhost:8080/",
          "height": 279
        }
      },
      "outputs": [
        {
          "output_type": "execute_result",
          "data": {
            "text/plain": [
              "<matplotlib.axes._subplots.AxesSubplot at 0x7f44d4bc8610>"
            ]
          },
          "metadata": {},
          "execution_count": 42
        },
        {
          "output_type": "display_data",
          "data": {
            "text/plain": [
              "<Figure size 432x288 with 1 Axes>"
            ],
            "image/png": "[encoded data removed]"
          },
          "metadata": {
            "needs_background": "light"
          }
        }
      ],
      "source": [
        "# distribution of vote counts for hate_speech_votes\n",
        "clean_df.hate_speech_votes.hist()"
      ]
    },
    {
      "cell_type": "code",
      "execution_count": 43,
      "metadata": {
        "id": "LWeK5s3rrcxY",
        "outputId": "3a6ea567-2d1d-4af5-dc91-1c95e6883055",
        "colab": {
          "base_uri": "https://localhost:8080/",
          "height": 279
        }
      },
      "outputs": [
        {
          "output_type": "execute_result",
          "data": {
            "text/plain": [
              "<matplotlib.axes._subplots.AxesSubplot at 0x7f44d3e8a640>"
            ]
          },
          "metadata": {},
          "execution_count": 43
        },
        {
          "output_type": "display_data",
          "data": {
            "text/plain": [
              "<Figure size 432x288 with 1 Axes>"
            ],
            "image/png": "[encoded data removed]"
          },
          "metadata": {
            "needs_background": "light"
          }
        }
      ],
      "source": [
        "# distribution of vote counts for other_votes\n",
        "clean_df.other_votes.hist()"
      ]
    },
    {
      "source": [
        "### EDA on `total_votes` column"
      ],
      "cell_type": "markdown",
      "metadata": {
        "id": "qT9miFtircxZ"
      }
    },
    {
      "cell_type": "code",
      "execution_count": 44,
      "metadata": {
        "id": "pk5lQGdurcxZ",
        "outputId": "3d1b3f2b-c65f-4b70-de50-95ed8de36317",
        "colab": {
          "base_uri": "https://localhost:8080/",
          "height": 279
        }
      },
      "outputs": [
        {
          "output_type": "execute_result",
          "data": {
            "text/plain": [
              "<matplotlib.axes._subplots.AxesSubplot at 0x7f44d4b00490>"
            ]
          },
          "metadata": {},
          "execution_count": 44
        },
        {
          "output_type": "display_data",
          "data": {
            "text/plain": [
              "<Figure size 432x288 with 1 Axes>"
            ],
            "image/png": "[encoded data removed]"
          },
          "metadata": {
            "needs_background": "light"
          }
        }
      ],
      "source": [
        "clean_df.total_votes.hist()"
      ]
    }
  ]
}