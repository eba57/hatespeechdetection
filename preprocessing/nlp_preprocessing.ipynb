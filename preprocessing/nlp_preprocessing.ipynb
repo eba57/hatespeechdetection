{
  "metadata": {
    "language_info": {
      "codemirror_mode": {
        "name": "ipython",
        "version": 3
      },
      "file_extension": ".py",
      "mimetype": "text/x-python",
      "name": "python",
      "nbconvert_exporter": "python",
      "pygments_lexer": "ipython3",
      "version": "3.6.9-final"
    },
    "orig_nbformat": 2,
    "kernelspec": {
      "name": "learn-env",
      "display_name": "learn-env",
      "language": "python"
    },
    "colab": {
      "provenance": []
    }
  },
  "nbformat": 4,
  "nbformat_minor": 0,
  "cells": [
    {
      "source": [
        "# Preprocessing Text Data\n",
        "\n",
        "The purpose of this notebook is to conduct the preprocessing steps that are necessary for text data in NLP. This includes tokenizing, removing stop words, vectorizing, etc."
      ],
      "cell_type": "markdown",
      "metadata": {
        "id": "6l4U8XDNC-v4"
      }
    },
    {
      "cell_type": "code",
      "execution_count": 2,
      "metadata": {
        "id": "ovNaYmU7C-v9"
      },
      "outputs": [],
      "source": [
        "import numpy as np\n",
        "import pandas as pd\n",
        "import matplotlib.pyplot as plt\n",
        "from matplotlib import cm\n",
        "import seaborn as sns; sns.set()\n",
        "%matplotlib inline\n",
        "# packages for NLP preprocessing\n",
        "import nltk\n",
        "from sklearn.feature_extraction import text \n",
        "from nltk.stem import WordNetLemmatizer \n",
        "from nltk.probability import FreqDist\n",
        "from nltk.corpus import stopwords\n",
        "from nltk.stem import PorterStemmer\n",
        "from nltk.collocations import *\n",
        "import pickle\n"
      ]
    },
    {
      "cell_type": "code",
      "source": [
        "nltk.download('punkt')\n"
      ],
      "metadata": {
        "colab": {
          "base_uri": "https://localhost:8080/"
        },
        "id": "O_53qUz4GjlU",
        "outputId": "2894bba2-835a-490b-d892-8ff8e78dda0b"
      },
      "execution_count": 3,
      "outputs": [
        {
          "output_type": "stream",
          "name": "stderr",
          "text": [
            "[nltk_data] Downloading package punkt to /root/nltk_data...\n",
            "[nltk_data]   Unzipping tokenizers/punkt.zip.\n"
          ]
        },
        {
          "output_type": "execute_result",
          "data": {
            "text/plain": [
              "True"
            ]
          },
          "metadata": {},
          "execution_count": 3
        }
      ]
    },
    {
      "cell_type": "code",
      "source": [
        "nltk.download('wordnet')"
      ],
      "metadata": {
        "colab": {
          "base_uri": "https://localhost:8080/"
        },
        "id": "KhMYHe2Aqdu2",
        "outputId": "3b7b825e-36ab-4a1a-e566-4ec7a125169f"
      },
      "execution_count": 24,
      "outputs": [
        {
          "output_type": "stream",
          "name": "stderr",
          "text": [
            "[nltk_data] Downloading package wordnet to /root/nltk_data...\n"
          ]
        },
        {
          "output_type": "execute_result",
          "data": {
            "text/plain": [
              "True"
            ]
          },
          "metadata": {},
          "execution_count": 24
        }
      ]
    },
    {
      "cell_type": "code",
      "source": [
        "nltk.download('omw-1.4')"
      ],
      "metadata": {
        "colab": {
          "base_uri": "https://localhost:8080/"
        },
        "id": "5_Tyih0lqyGk",
        "outputId": "22aafa9b-1087-41ac-cf00-8f56da58dc64"
      },
      "execution_count": 26,
      "outputs": [
        {
          "output_type": "stream",
          "name": "stderr",
          "text": [
            "[nltk_data] Downloading package omw-1.4 to /root/nltk_data...\n"
          ]
        },
        {
          "output_type": "execute_result",
          "data": {
            "text/plain": [
              "True"
            ]
          },
          "metadata": {},
          "execution_count": 26
        }
      ]
    },
    {
      "cell_type": "code",
      "source": [
        "nltk.download('stopwords')"
      ],
      "metadata": {
        "colab": {
          "base_uri": "https://localhost:8080/"
        },
        "id": "MbxVdeQxIDm3",
        "outputId": "0a41f8b8-ce3c-4ec4-df70-83a7b8e21e50"
      },
      "execution_count": 4,
      "outputs": [
        {
          "output_type": "stream",
          "name": "stderr",
          "text": [
            "[nltk_data] Downloading package stopwords to /root/nltk_data...\n",
            "[nltk_data]   Unzipping corpora/stopwords.zip.\n"
          ]
        },
        {
          "output_type": "execute_result",
          "data": {
            "text/plain": [
              "True"
            ]
          },
          "metadata": {},
          "execution_count": 4
        }
      ]
    },
    {
      "source": [
        "### Loading in the clean dataframe from `data_cleaning.ipynb`\n"
      ],
      "cell_type": "markdown",
      "metadata": {
        "id": "CtSho8M2C-wB"
      }
    },
    {
      "cell_type": "code",
      "source": [
        "from google.colab import files\n",
        "data_to_load = files.upload()\n",
        "import io\n",
        "clean_df = pd.read_pickle(io.BytesIO(data_to_load['clean_df.pkl']))"
      ],
      "metadata": {
        "colab": {
          "base_uri": "https://localhost:8080/",
          "height": 78
        },
        "id": "Xcg3-I8KDc7_",
        "outputId": "93c8f35a-bb12-4ccb-b095-8f91df3c7472"
      },
      "execution_count": 5,
      "outputs": [
        {
          "output_type": "display_data",
          "data": {
            "text/plain": [
              "<IPython.core.display.HTML object>"
            ],
            "text/html": [
              "\n",
              "     <input type=\"file\" id=\"files-8515f4a1-0e95-4131-8402-6c2823b5f310\" name=\"files[]\" multiple disabled\n",
              "        style=\"border:none\" />\n",
              "     <output id=\"result-8515f4a1-0e95-4131-8402-6c2823b5f310\">\n",
              "      Upload widget is only available when the cell has been executed in the\n",
              "      current browser session. Please rerun this cell to enable.\n",
              "      </output>\n",
              "      <script>// Copyright 2017 Google LLC\n",
              "//\n",
              "// Licensed under the Apache License, Version 2.0 (the \"License\");\n",
              "// you may not use this file except in compliance with the License.\n",
              "// You may obtain a copy of the License at\n",
              "//\n",
              "//      http://www.apache.org/licenses/LICENSE-2.0\n",
              "//\n",
              "// Unless required by applicable law or agreed to in writing, software\n",
              "// distributed under the License is distributed on an \"AS IS\" BASIS,\n",
              "// WITHOUT WARRANTIES OR CONDITIONS OF ANY KIND, either express or implied.\n",
              "// See the License for the specific language governing permissions and\n",
              "// limitations under the License.\n",
              "\n",
              "/**\n",
              " * @fileoverview Helpers for google.colab Python module.\n",
              " */\n",
              "(function(scope) {\n",
              "function span(text, styleAttributes = {}) {\n",
              "  const element = document.createElement('span');\n",
              "  element.textContent = text;\n",
              "  for (const key of Object.keys(styleAttributes)) {\n",
              "    element.style[key] = styleAttributes[key];\n",
              "  }\n",
              "  return element;\n",
              "}\n",
              "\n",
              "// Max number of bytes which will be uploaded at a time.\n",
              "const MAX_PAYLOAD_SIZE = 100 * 1024;\n",
              "\n",
              "function _uploadFiles(inputId, outputId) {\n",
              "  const steps = uploadFilesStep(inputId, outputId);\n",
              "  const outputElement = document.getElementById(outputId);\n",
              "  // Cache steps on the outputElement to make it available for the next call\n",
              "  // to uploadFilesContinue from Python.\n",
              "  outputElement.steps = steps;\n",
              "\n",
              "  return _uploadFilesContinue(outputId);\n",
              "}\n",
              "\n",
              "// This is roughly an async generator (not supported in the browser yet),\n",
              "// where there are multiple asynchronous steps and the Python side is going\n",
              "// to poll for completion of each step.\n",
              "// This uses a Promise to block the python side on completion of each step,\n",
              "// then passes the result of the previous step as the input to the next step.\n",
              "function _uploadFilesContinue(outputId) {\n",
              "  const outputElement = document.getElementById(outputId);\n",
              "  const steps = outputElement.steps;\n",
              "\n",
              "  const next = steps.next(outputElement.lastPromiseValue);\n",
              "  return Promise.resolve(next.value.promise).then((value) => {\n",
              "    // Cache the last promise value to make it available to the next\n",
              "    // step of the generator.\n",
              "    outputElement.lastPromiseValue = value;\n",
              "    return next.value.response;\n",
              "  });\n",
              "}\n",
              "\n",
              "/**\n",
              " * Generator function which is called between each async step of the upload\n",
              " * process.\n",
              " * @param {string} inputId Element ID of the input file picker element.\n",
              " * @param {string} outputId Element ID of the output display.\n",
              " * @return {!Iterable<!Object>} Iterable of next steps.\n",
              " */\n",
              "function* uploadFilesStep(inputId, outputId) {\n",
              "  const inputElement = document.getElementById(inputId);\n",
              "  inputElement.disabled = false;\n",
              "\n",
              "  const outputElement = document.getElementById(outputId);\n",
              "  outputElement.innerHTML = '';\n",
              "\n",
              "  const pickedPromise = new Promise((resolve) => {\n",
              "    inputElement.addEventListener('change', (e) => {\n",
              "      resolve(e.target.files);\n",
              "    });\n",
              "  });\n",
              "\n",
              "  const cancel = document.createElement('button');\n",
              "  inputElement.parentElement.appendChild(cancel);\n",
              "  cancel.textContent = 'Cancel upload';\n",
              "  const cancelPromise = new Promise((resolve) => {\n",
              "    cancel.onclick = () => {\n",
              "      resolve(null);\n",
              "    };\n",
              "  });\n",
              "\n",
              "  // Wait for the user to pick the files.\n",
              "  const files = yield {\n",
              "    promise: Promise.race([pickedPromise, cancelPromise]),\n",
              "    response: {\n",
              "      action: 'starting',\n",
              "    }\n",
              "  };\n",
              "\n",
              "  cancel.remove();\n",
              "\n",
              "  // Disable the input element since further picks are not allowed.\n",
              "  inputElement.disabled = true;\n",
              "\n",
              "  if (!files) {\n",
              "    return {\n",
              "      response: {\n",
              "        action: 'complete',\n",
              "      }\n",
              "    };\n",
              "  }\n",
              "\n",
              "  for (const file of files) {\n",
              "    const li = document.createElement('li');\n",
              "    li.append(span(file.name, {fontWeight: 'bold'}));\n",
              "    li.append(span(\n",
              "        `(${file.type || 'n/a'}) - ${file.size} bytes, ` +\n",
              "        `last modified: ${\n",
              "            file.lastModifiedDate ? file.lastModifiedDate.toLocaleDateString() :\n",
              "                                    'n/a'} - `));\n",
              "    const percent = span('0% done');\n",
              "    li.appendChild(percent);\n",
              "\n",
              "    outputElement.appendChild(li);\n",
              "\n",
              "    const fileDataPromise = new Promise((resolve) => {\n",
              "      const reader = new FileReader();\n",
              "      reader.onload = (e) => {\n",
              "        resolve(e.target.result);\n",
              "      };\n",
              "      reader.readAsArrayBuffer(file);\n",
              "    });\n",
              "    // Wait for the data to be ready.\n",
              "    let fileData = yield {\n",
              "      promise: fileDataPromise,\n",
              "      response: {\n",
              "        action: 'continue',\n",
              "      }\n",
              "    };\n",
              "\n",
              "    // Use a chunked sending to avoid message size limits. See b/62115660.\n",
              "    let position = 0;\n",
              "    do {\n",
              "      const length = Math.min(fileData.byteLength - position, MAX_PAYLOAD_SIZE);\n",
              "      const chunk = new Uint8Array(fileData, position, length);\n",
              "      position += length;\n",
              "\n",
              "      const base64 = btoa(String.fromCharCode.apply(null, chunk));\n",
              "      yield {\n",
              "        response: {\n",
              "          action: 'append',\n",
              "          file: file.name,\n",
              "          data: base64,\n",
              "        },\n",
              "      };\n",
              "\n",
              "      let percentDone = fileData.byteLength === 0 ?\n",
              "          100 :\n",
              "          Math.round((position / fileData.byteLength) * 100);\n",
              "      percent.textContent = `${percentDone}% done`;\n",
              "\n",
              "    } while (position < fileData.byteLength);\n",
              "  }\n",
              "\n",
              "  // All done.\n",
              "  yield {\n",
              "    response: {\n",
              "      action: 'complete',\n",
              "    }\n",
              "  };\n",
              "}\n",
              "\n",
              "scope.google = scope.google || {};\n",
              "scope.google.colab = scope.google.colab || {};\n",
              "scope.google.colab._files = {\n",
              "  _uploadFiles,\n",
              "  _uploadFilesContinue,\n",
              "};\n",
              "})(self);\n",
              "</script> "
            ]
          },
          "metadata": {}
        },
        {
          "output_type": "stream",
          "name": "stdout",
          "text": [
            "Saving clean_df.pkl to clean_df.pkl\n"
          ]
        }
      ]
    },
    {
      "cell_type": "code",
      "execution_count": null,
      "metadata": {
        "id": "LPDTpBUNC-wC"
      },
      "outputs": [],
      "source": [
        "# if u are running in local machine like jupyter notebook use the below code\n",
        "# clean_df = pd.read_pickle('../pickle/clean_df.pkl')"
      ]
    },
    {
      "cell_type": "code",
      "execution_count": 6,
      "metadata": {
        "colab": {
          "base_uri": "https://localhost:8080/",
          "height": 206
        },
        "id": "6XY0ZOgkC-wD",
        "outputId": "e7270d41-2df1-48fa-8e1f-f6edadee4e21"
      },
      "outputs": [
        {
          "output_type": "execute_result",
          "data": {
            "text/plain": [
              "   total_votes  hate_speech_votes  other_votes  label  \\\n",
              "0            3                  0            3      0   \n",
              "1            3                  0            3      0   \n",
              "2            3                  0            3      0   \n",
              "3            3                  0            3      0   \n",
              "4            6                  0            6      0   \n",
              "\n",
              "                                               tweet  \\\n",
              "0  !!! RT @mayasolovely: As a woman you shouldn't...   \n",
              "1  !!!!! RT @mleew17: boy dats cold...tyga dwn ba...   \n",
              "2  !!!!!!! RT @UrKindOfBrand Dawg!!!! RT @80sbaby...   \n",
              "3  !!!!!!!!! RT @C_G_Anderson: @viva_based she lo...   \n",
              "4  !!!!!!!!!!!!! RT @ShenikaRoberts: The shit you...   \n",
              "\n",
              "                                        clean_tweets  \n",
              "0     as a woman you shouldnt complain about clea...  \n",
              "1     boy dats coldtyga dwn bad for cuffin dat ho...  \n",
              "2     dawg   you ever fuck a bitch and she sta to...  \n",
              "3                             she look like a tranny  \n",
              "4     the shit you hear about me might be true or...  "
            ],
            "text/html": [
              "\n",
              "  <div id=\"df-6eaf7d97-5b1a-4e07-8bdf-2722f06eacfc\">\n",
              "    <div class=\"colab-df-container\">\n",
              "      <div>\n",
              "<style scoped>\n",
              "    .dataframe tbody tr th:only-of-type {\n",
              "        vertical-align: middle;\n",
              "    }\n",
              "\n",
              "    .dataframe tbody tr th {\n",
              "        vertical-align: top;\n",
              "    }\n",
              "\n",
              "    .dataframe thead th {\n",
              "        text-align: right;\n",
              "    }\n",
              "</style>\n",
              "<table border=\"1\" class=\"dataframe\">\n",
              "  <thead>\n",
              "    <tr style=\"text-align: right;\">\n",
              "      <th></th>\n",
              "      <th>total_votes</th>\n",
              "      <th>hate_speech_votes</th>\n",
              "      <th>other_votes</th>\n",
              "      <th>label</th>\n",
              "      <th>tweet</th>\n",
              "      <th>clean_tweets</th>\n",
              "    </tr>\n",
              "  </thead>\n",
              "  <tbody>\n",
              "    <tr>\n",
              "      <th>0</th>\n",
              "      <td>3</td>\n",
              "      <td>0</td>\n",
              "      <td>3</td>\n",
              "      <td>0</td>\n",
              "      <td>!!! RT @mayasolovely: As a woman you shouldn't...</td>\n",
              "      <td>as a woman you shouldnt complain about clea...</td>\n",
              "    </tr>\n",
              "    <tr>\n",
              "      <th>1</th>\n",
              "      <td>3</td>\n",
              "      <td>0</td>\n",
              "      <td>3</td>\n",
              "      <td>0</td>\n",
              "      <td>!!!!! RT @mleew17: boy dats cold...tyga dwn ba...</td>\n",
              "      <td>boy dats coldtyga dwn bad for cuffin dat ho...</td>\n",
              "    </tr>\n",
              "    <tr>\n",
              "      <th>2</th>\n",
              "      <td>3</td>\n",
              "      <td>0</td>\n",
              "      <td>3</td>\n",
              "      <td>0</td>\n",
              "      <td>!!!!!!! RT @UrKindOfBrand Dawg!!!! RT @80sbaby...</td>\n",
              "      <td>dawg   you ever fuck a bitch and she sta to...</td>\n",
              "    </tr>\n",
              "    <tr>\n",
              "      <th>3</th>\n",
              "      <td>3</td>\n",
              "      <td>0</td>\n",
              "      <td>3</td>\n",
              "      <td>0</td>\n",
              "      <td>!!!!!!!!! RT @C_G_Anderson: @viva_based she lo...</td>\n",
              "      <td>she look like a tranny</td>\n",
              "    </tr>\n",
              "    <tr>\n",
              "      <th>4</th>\n",
              "      <td>6</td>\n",
              "      <td>0</td>\n",
              "      <td>6</td>\n",
              "      <td>0</td>\n",
              "      <td>!!!!!!!!!!!!! RT @ShenikaRoberts: The shit you...</td>\n",
              "      <td>the shit you hear about me might be true or...</td>\n",
              "    </tr>\n",
              "  </tbody>\n",
              "</table>\n",
              "</div>\n",
              "      <button class=\"colab-df-convert\" onclick=\"convertToInteractive('df-6eaf7d97-5b1a-4e07-8bdf-2722f06eacfc')\"\n",
              "              title=\"Convert this dataframe to an interactive table.\"\n",
              "              style=\"display:none;\">\n",
              "        \n",
              "  <svg xmlns=\"http://www.w3.org/2000/svg\" height=\"24px\"viewBox=\"0 0 24 24\"\n",
              "       width=\"24px\">\n",
              "    <path d=\"M0 0h24v24H0V0z\" fill=\"none\"/>\n",
              "    <path d=\"M18.56 5.44l.94 2.06.94-2.06 2.06-.94-2.06-.94-.94-2.06-.94 2.06-2.06.94zm-11 1L8.5 8.5l.94-2.06 2.06-.94-2.06-.94L8.5 2.5l-.94 2.06-2.06.94zm10 10l.94 2.06.94-2.06 2.06-.94-2.06-.94-.94-2.06-.94 2.06-2.06.94z\"/><path d=\"M17.41 7.96l-1.37-1.37c-.4-.4-.92-.59-1.43-.59-.52 0-1.04.2-1.43.59L10.3 9.45l-7.72 7.72c-.78.78-.78 2.05 0 2.83L4 21.41c.39.39.9.59 1.41.59.51 0 1.02-.2 1.41-.59l7.78-7.78 2.81-2.81c.8-.78.8-2.07 0-2.86zM5.41 20L4 18.59l7.72-7.72 1.47 1.35L5.41 20z\"/>\n",
              "  </svg>\n",
              "      </button>\n",
              "      \n",
              "  <style>\n",
              "    .colab-df-container {\n",
              "      display:flex;\n",
              "      flex-wrap:wrap;\n",
              "      gap: 12px;\n",
              "    }\n",
              "\n",
              "    .colab-df-convert {\n",
              "      background-color: #E8F0FE;\n",
              "      border: none;\n",
              "      border-radius: 50%;\n",
              "      cursor: pointer;\n",
              "      display: none;\n",
              "      fill: #1967D2;\n",
              "      height: 32px;\n",
              "      padding: 0 0 0 0;\n",
              "      width: 32px;\n",
              "    }\n",
              "\n",
              "    .colab-df-convert:hover {\n",
              "      background-color: #E2EBFA;\n",
              "      box-shadow: 0px 1px 2px rgba(60, 64, 67, 0.3), 0px 1px 3px 1px rgba(60, 64, 67, 0.15);\n",
              "      fill: #174EA6;\n",
              "    }\n",
              "\n",
              "    [theme=dark] .colab-df-convert {\n",
              "      background-color: #3B4455;\n",
              "      fill: #D2E3FC;\n",
              "    }\n",
              "\n",
              "    [theme=dark] .colab-df-convert:hover {\n",
              "      background-color: #434B5C;\n",
              "      box-shadow: 0px 1px 3px 1px rgba(0, 0, 0, 0.15);\n",
              "      filter: drop-shadow(0px 1px 2px rgba(0, 0, 0, 0.3));\n",
              "      fill: #FFFFFF;\n",
              "    }\n",
              "  </style>\n",
              "\n",
              "      <script>\n",
              "        const buttonEl =\n",
              "          document.querySelector('#df-6eaf7d97-5b1a-4e07-8bdf-2722f06eacfc button.colab-df-convert');\n",
              "        buttonEl.style.display =\n",
              "          google.colab.kernel.accessAllowed ? 'block' : 'none';\n",
              "\n",
              "        async function convertToInteractive(key) {\n",
              "          const element = document.querySelector('#df-6eaf7d97-5b1a-4e07-8bdf-2722f06eacfc');\n",
              "          const dataTable =\n",
              "            await google.colab.kernel.invokeFunction('convertToInteractive',\n",
              "                                                     [key], {});\n",
              "          if (!dataTable) return;\n",
              "\n",
              "          const docLinkHtml = 'Like what you see? Visit the ' +\n",
              "            '<a target=\"_blank\" href=https://colab.research.google.com/notebooks/data_table.ipynb>data table notebook</a>'\n",
              "            + ' to learn more about interactive tables.';\n",
              "          element.innerHTML = '';\n",
              "          dataTable['output_type'] = 'display_data';\n",
              "          await google.colab.output.renderOutput(dataTable, element);\n",
              "          const docLink = document.createElement('div');\n",
              "          docLink.innerHTML = docLinkHtml;\n",
              "          element.appendChild(docLink);\n",
              "        }\n",
              "      </script>\n",
              "    </div>\n",
              "  </div>\n",
              "  "
            ]
          },
          "metadata": {},
          "execution_count": 6
        }
      ],
      "source": [
        "clean_df.head()"
      ]
    },
    {
      "source": [
        "### Creating `tweet_df` with only cleaned tweets column"
      ],
      "cell_type": "markdown",
      "metadata": {
        "id": "T6T4tBJPC-wF"
      }
    },
    {
      "cell_type": "code",
      "execution_count": 7,
      "metadata": {
        "id": "aL2D8qOtC-wF"
      },
      "outputs": [],
      "source": [
        "tweet_df = clean_df[['clean_tweets', 'label']].copy()"
      ]
    },
    {
      "cell_type": "code",
      "execution_count": 8,
      "metadata": {
        "colab": {
          "base_uri": "https://localhost:8080/",
          "height": 206
        },
        "id": "Dw-rszPcC-wH",
        "outputId": "5333080f-d2db-43d8-f1fe-56de1572eba6"
      },
      "outputs": [
        {
          "output_type": "execute_result",
          "data": {
            "text/plain": [
              "                                        clean_tweets  label\n",
              "0     as a woman you shouldnt complain about clea...      0\n",
              "1     boy dats coldtyga dwn bad for cuffin dat ho...      0\n",
              "2     dawg   you ever fuck a bitch and she sta to...      0\n",
              "3                             she look like a tranny      0\n",
              "4     the shit you hear about me might be true or...      0"
            ],
            "text/html": [
              "\n",
              "  <div id=\"df-3345a51a-dc95-4db2-9870-7b1371f5ea61\">\n",
              "    <div class=\"colab-df-container\">\n",
              "      <div>\n",
              "<style scoped>\n",
              "    .dataframe tbody tr th:only-of-type {\n",
              "        vertical-align: middle;\n",
              "    }\n",
              "\n",
              "    .dataframe tbody tr th {\n",
              "        vertical-align: top;\n",
              "    }\n",
              "\n",
              "    .dataframe thead th {\n",
              "        text-align: right;\n",
              "    }\n",
              "</style>\n",
              "<table border=\"1\" class=\"dataframe\">\n",
              "  <thead>\n",
              "    <tr style=\"text-align: right;\">\n",
              "      <th></th>\n",
              "      <th>clean_tweets</th>\n",
              "      <th>label</th>\n",
              "    </tr>\n",
              "  </thead>\n",
              "  <tbody>\n",
              "    <tr>\n",
              "      <th>0</th>\n",
              "      <td>as a woman you shouldnt complain about clea...</td>\n",
              "      <td>0</td>\n",
              "    </tr>\n",
              "    <tr>\n",
              "      <th>1</th>\n",
              "      <td>boy dats coldtyga dwn bad for cuffin dat ho...</td>\n",
              "      <td>0</td>\n",
              "    </tr>\n",
              "    <tr>\n",
              "      <th>2</th>\n",
              "      <td>dawg   you ever fuck a bitch and she sta to...</td>\n",
              "      <td>0</td>\n",
              "    </tr>\n",
              "    <tr>\n",
              "      <th>3</th>\n",
              "      <td>she look like a tranny</td>\n",
              "      <td>0</td>\n",
              "    </tr>\n",
              "    <tr>\n",
              "      <th>4</th>\n",
              "      <td>the shit you hear about me might be true or...</td>\n",
              "      <td>0</td>\n",
              "    </tr>\n",
              "  </tbody>\n",
              "</table>\n",
              "</div>\n",
              "      <button class=\"colab-df-convert\" onclick=\"convertToInteractive('df-3345a51a-dc95-4db2-9870-7b1371f5ea61')\"\n",
              "              title=\"Convert this dataframe to an interactive table.\"\n",
              "              style=\"display:none;\">\n",
              "        \n",
              "  <svg xmlns=\"http://www.w3.org/2000/svg\" height=\"24px\"viewBox=\"0 0 24 24\"\n",
              "       width=\"24px\">\n",
              "    <path d=\"M0 0h24v24H0V0z\" fill=\"none\"/>\n",
              "    <path d=\"M18.56 5.44l.94 2.06.94-2.06 2.06-.94-2.06-.94-.94-2.06-.94 2.06-2.06.94zm-11 1L8.5 8.5l.94-2.06 2.06-.94-2.06-.94L8.5 2.5l-.94 2.06-2.06.94zm10 10l.94 2.06.94-2.06 2.06-.94-2.06-.94-.94-2.06-.94 2.06-2.06.94z\"/><path d=\"M17.41 7.96l-1.37-1.37c-.4-.4-.92-.59-1.43-.59-.52 0-1.04.2-1.43.59L10.3 9.45l-7.72 7.72c-.78.78-.78 2.05 0 2.83L4 21.41c.39.39.9.59 1.41.59.51 0 1.02-.2 1.41-.59l7.78-7.78 2.81-2.81c.8-.78.8-2.07 0-2.86zM5.41 20L4 18.59l7.72-7.72 1.47 1.35L5.41 20z\"/>\n",
              "  </svg>\n",
              "      </button>\n",
              "      \n",
              "  <style>\n",
              "    .colab-df-container {\n",
              "      display:flex;\n",
              "      flex-wrap:wrap;\n",
              "      gap: 12px;\n",
              "    }\n",
              "\n",
              "    .colab-df-convert {\n",
              "      background-color: #E8F0FE;\n",
              "      border: none;\n",
              "      border-radius: 50%;\n",
              "      cursor: pointer;\n",
              "      display: none;\n",
              "      fill: #1967D2;\n",
              "      height: 32px;\n",
              "      padding: 0 0 0 0;\n",
              "      width: 32px;\n",
              "    }\n",
              "\n",
              "    .colab-df-convert:hover {\n",
              "      background-color: #E2EBFA;\n",
              "      box-shadow: 0px 1px 2px rgba(60, 64, 67, 0.3), 0px 1px 3px 1px rgba(60, 64, 67, 0.15);\n",
              "      fill: #174EA6;\n",
              "    }\n",
              "\n",
              "    [theme=dark] .colab-df-convert {\n",
              "      background-color: #3B4455;\n",
              "      fill: #D2E3FC;\n",
              "    }\n",
              "\n",
              "    [theme=dark] .colab-df-convert:hover {\n",
              "      background-color: #434B5C;\n",
              "      box-shadow: 0px 1px 3px 1px rgba(0, 0, 0, 0.15);\n",
              "      filter: drop-shadow(0px 1px 2px rgba(0, 0, 0, 0.3));\n",
              "      fill: #FFFFFF;\n",
              "    }\n",
              "  </style>\n",
              "\n",
              "      <script>\n",
              "        const buttonEl =\n",
              "          document.querySelector('#df-3345a51a-dc95-4db2-9870-7b1371f5ea61 button.colab-df-convert');\n",
              "        buttonEl.style.display =\n",
              "          google.colab.kernel.accessAllowed ? 'block' : 'none';\n",
              "\n",
              "        async function convertToInteractive(key) {\n",
              "          const element = document.querySelector('#df-3345a51a-dc95-4db2-9870-7b1371f5ea61');\n",
              "          const dataTable =\n",
              "            await google.colab.kernel.invokeFunction('convertToInteractive',\n",
              "                                                     [key], {});\n",
              "          if (!dataTable) return;\n",
              "\n",
              "          const docLinkHtml = 'Like what you see? Visit the ' +\n",
              "            '<a target=\"_blank\" href=https://colab.research.google.com/notebooks/data_table.ipynb>data table notebook</a>'\n",
              "            + ' to learn more about interactive tables.';\n",
              "          element.innerHTML = '';\n",
              "          dataTable['output_type'] = 'display_data';\n",
              "          await google.colab.output.renderOutput(dataTable, element);\n",
              "          const docLink = document.createElement('div');\n",
              "          docLink.innerHTML = docLinkHtml;\n",
              "          element.appendChild(docLink);\n",
              "        }\n",
              "      </script>\n",
              "    </div>\n",
              "  </div>\n",
              "  "
            ]
          },
          "metadata": {},
          "execution_count": 8
        }
      ],
      "source": [
        "tweet_df.head()"
      ]
    },
    {
      "cell_type": "code",
      "execution_count": 9,
      "metadata": {
        "id": "jBdd9f6JC-wJ"
      },
      "outputs": [],
      "source": [
        "data = tweet_df['clean_tweets']\n",
        "target = tweet_df['label']"
      ]
    },
    {
      "source": [
        "## Tokenizing Before Removing Stop Words"
      ],
      "cell_type": "markdown",
      "metadata": {
        "id": "gu9b6S8AC-wL"
      }
    },
    {
      "source": [
        "When working with text data, one of the first steps is to remove stop words from the corpus. Although text would be gramatically incorrect without these stop words, they provide little value to models and typically hinder performace.\n",
        "\n",
        "Before removing stop words, let's take a look at the top words in this corpus."
      ],
      "cell_type": "markdown",
      "metadata": {
        "id": "NgJROj-bC-wM"
      }
    },
    {
      "cell_type": "code",
      "execution_count": 10,
      "metadata": {
        "id": "k_qQGarSC-wN"
      },
      "outputs": [],
      "source": [
        "# function to tokenize without removing stop words\n",
        "def unfiltered_tokens(text):\n",
        "    dirty_tokens = nltk.word_tokenize(text)\n",
        "    return dirty_tokens"
      ]
    },
    {
      "cell_type": "code",
      "execution_count": 11,
      "metadata": {
        "id": "P3p0wmORC-wO"
      },
      "outputs": [],
      "source": [
        "# applying this function to the `clean_tweets` column\n",
        "unfilterd_data = list(map(unfiltered_tokens, data))"
      ]
    },
    {
      "cell_type": "code",
      "execution_count": 12,
      "metadata": {
        "id": "iHi8csmWC-wP"
      },
      "outputs": [],
      "source": [
        "# morphing `unfiltered_data` into a readable list\n",
        "flat_unfiltered = [item for sublist in unfilterd_data for item in sublist]"
      ]
    },
    {
      "cell_type": "code",
      "execution_count": 13,
      "metadata": {
        "colab": {
          "base_uri": "https://localhost:8080/"
        },
        "id": "J_-8Os4_C-wQ",
        "outputId": "f76dd5d8-3d83-4365-da78-10fa2a6b27a5"
      },
      "outputs": [
        {
          "output_type": "execute_result",
          "data": {
            "text/plain": [
              "[('a', 9476),\n",
              " ('bitch', 8227),\n",
              " ('i', 7538),\n",
              " ('the', 7168),\n",
              " ('you', 6120),\n",
              " ('to', 5332),\n",
              " ('and', 3951),\n",
              " ('my', 3579),\n",
              " ('that', 3528),\n",
              " ('bitches', 3083),\n",
              " ('in', 3051),\n",
              " ('is', 2909),\n",
              " ('like', 2766),\n",
              " ('me', 2764),\n",
              " ('of', 2544),\n",
              " ('on', 2518),\n",
              " ('be', 2375),\n",
              " ('hoes', 2368),\n",
              " ('this', 2149),\n",
              " ('for', 2119)]"
            ]
          },
          "metadata": {},
          "execution_count": 13
        }
      ],
      "source": [
        "# getting frequency distribution\n",
        "dirty_corpus_freqdist = FreqDist(flat_unfiltered)\n",
        "# top 20 words in the corpus\n",
        "dirty_corpus_freqdist.most_common(20)"
      ]
    },
    {
      "source": [
        "We can see that stop words typically dominate the top spots. Such as 'a', 'i', 'the', 'to', etc. But this tells us nothing about the actual content of the corpus, and will negatively impact model performance.\n",
        "\n",
        "Let's actually remove the stop words now."
      ],
      "cell_type": "markdown",
      "metadata": {
        "id": "AM2XUGoAC-wR"
      }
    },
    {
      "source": [
        "## Removing Stop Words in Tokenization\n",
        "We can use NLTK's built-in library of stop words to remove them in a tokenizing function."
      ],
      "cell_type": "markdown",
      "metadata": {
        "id": "03VlOb7CC-wR"
      }
    },
    {
      "cell_type": "code",
      "execution_count": 14,
      "metadata": {
        "id": "21laBelHC-wS"
      },
      "outputs": [],
      "source": [
        "stop_words = set(stopwords.words('english'))"
      ]
    },
    {
      "cell_type": "code",
      "execution_count": 15,
      "metadata": {
        "id": "7nF0-9WMC-wT"
      },
      "outputs": [],
      "source": [
        "def process_tweet(text):\n",
        "    tokens = nltk.word_tokenize(text)\n",
        "    stopwords_removed = [token.lower() for token in tokens if token.lower() not in stop_words]\n",
        "    return stopwords_removed "
      ]
    },
    {
      "cell_type": "code",
      "execution_count": 16,
      "metadata": {
        "id": "52WB5H1vC-wT"
      },
      "outputs": [],
      "source": [
        "# applying the above function to our data/features \n",
        "processed_data = list(map(process_tweet, data))"
      ]
    },
    {
      "cell_type": "code",
      "execution_count": 17,
      "metadata": {
        "colab": {
          "base_uri": "https://localhost:8080/"
        },
        "id": "GD5OVuNVC-wU",
        "outputId": "c18f8087-b79c-4ed2-9a5a-3ff3563676f7"
      },
      "outputs": [
        {
          "output_type": "execute_result",
          "data": {
            "text/plain": [
              "20277"
            ]
          },
          "metadata": {},
          "execution_count": 17
        }
      ],
      "source": [
        "total_vocab = set()\n",
        "for comment in processed_data:\n",
        "    total_vocab.update(comment)\n",
        "len(total_vocab)"
      ]
    },
    {
      "cell_type": "code",
      "execution_count": 18,
      "metadata": {
        "id": "TWnBiuCdC-wV"
      },
      "outputs": [],
      "source": [
        "# pickling procesed_data for later use\n",
        "pickle_out = open('/processed_data.pkl','wb')\n",
        "pickle.dump(processed_data, pickle_out)\n",
        "pickle_out.close()"
      ]
    },
    {
      "cell_type": "code",
      "source": [
        "from google.colab import drive\n",
        "drive.mount('/content/drive')"
      ],
      "metadata": {
        "colab": {
          "base_uri": "https://localhost:8080/"
        },
        "id": "H9FG1tZtI48O",
        "outputId": "d6831da9-942c-451d-dd5d-50c7ebc4fb8e"
      },
      "execution_count": 21,
      "outputs": [
        {
          "output_type": "stream",
          "name": "stdout",
          "text": [
            "Drive already mounted at /content/drive; to attempt to forcibly remount, call drive.mount(\"/content/drive\", force_remount=True).\n"
          ]
        }
      ]
    },
    {
      "source": [
        "Here we can see that our corpus has a vocabulary of 20277. This would also be the number of columns in the sparse matrix after we vectorize the data later."
      ],
      "cell_type": "markdown",
      "metadata": {
        "id": "pPAiWud9C-wV"
      }
    },
    {
      "source": [
        "Now that the stop words are removed and the corpus is tokenized, let's take a look at the top words in this corpus."
      ],
      "cell_type": "markdown",
      "metadata": {
        "id": "IXkrVSGAC-wW"
      }
    },
    {
      "cell_type": "code",
      "execution_count": 22,
      "metadata": {
        "colab": {
          "base_uri": "https://localhost:8080/"
        },
        "id": "RIGs9XWZC-wW",
        "outputId": "f8235967-f3ef-4cc5-cd51-87c5a978a8f4"
      },
      "outputs": [
        {
          "output_type": "execute_result",
          "data": {
            "text/plain": [
              "[('bitch', 8227),\n",
              " ('bitches', 3083),\n",
              " ('like', 2766),\n",
              " ('hoes', 2368),\n",
              " ('pussy', 2099),\n",
              " ('im', 2061),\n",
              " ('hoe', 1906),\n",
              " ('dont', 1749),\n",
              " ('got', 1597),\n",
              " ('ass', 1570),\n",
              " ('get', 1428),\n",
              " ('fuck', 1411),\n",
              " ('u', 1280),\n",
              " ('shit', 1262),\n",
              " ('nigga', 1198),\n",
              " ('aint', 1158),\n",
              " ('trash', 1142),\n",
              " ('lol', 1074),\n",
              " ('know', 806),\n",
              " ('niggas', 791)]"
            ]
          },
          "metadata": {},
          "execution_count": 22
        }
      ],
      "source": [
        "# morphing `processed_data` into a readable list\n",
        "flat_filtered = [item for sublist in processed_data for item in sublist]\n",
        "# getting frequency distribution\n",
        "clean_corpus_freqdist = FreqDist(flat_filtered)\n",
        "# top 20 words in cleaned corpus\n",
        "clean_corpus_freqdist.most_common(20)"
      ]
    },
    {
      "source": [
        "We can see that the \"meaningless\" stop words have been removed from the corpus. Some of the words here are still up for debate, but let's run this data through some baseline models and see how they perform."
      ],
      "cell_type": "markdown",
      "metadata": {
        "id": "UrK-r4iHC-wX"
      }
    },
    {
      "source": [
        "## Lemmatization\n",
        "\n",
        "This last method reduces each word into a linguistically valid **lemma**, or root word. It does this through linguistic mappings, using the WordNet lexical database.\n"
      ],
      "cell_type": "markdown",
      "metadata": {
        "id": "z1nSlzhDC-wX"
      }
    },
    {
      "cell_type": "code",
      "execution_count": 27,
      "metadata": {
        "id": "86-_0YEvC-wZ"
      },
      "outputs": [],
      "source": [
        "# creating a list with all lemmatized outputs\n",
        "lemmatizer = WordNetLemmatizer() \n",
        "lemmatized_output = []\n",
        "\n",
        "for listy in processed_data:\n",
        "    lemmed = ' '.join([lemmatizer.lemmatize(w) for w in listy])\n",
        "    lemmatized_output.append(lemmed)"
      ]
    },
    {
      "cell_type": "code",
      "execution_count": 28,
      "metadata": {
        "id": "ZI0tJliaC-wZ"
      },
      "outputs": [],
      "source": [
        "X_lem = lemmatized_output\n",
        "y_lem = target"
      ]
    },
    {
      "source": [
        "# pickle these for modeling\n",
        "pickle_out = open('/X_lem.pkl','wb')\n",
        "pickle.dump(X_lem, pickle_out)\n",
        "pickle_out.close()"
      ],
      "cell_type": "code",
      "metadata": {
        "id": "2aJlq5UJC-wZ"
      },
      "execution_count": 29,
      "outputs": []
    },
    {
      "cell_type": "code",
      "execution_count": 30,
      "metadata": {
        "id": "SU7b7Sk2C-wa"
      },
      "outputs": [],
      "source": [
        "y_lem.to_pickle('/y_lem.pkl')"
      ]
    },
    {
      "source": [
        "### Now `X_lem` and `y_lem` are ready to be brought over to the modeling notebooks."
      ],
      "cell_type": "markdown",
      "metadata": {
        "id": "cFF_xEWHC-wa"
      }
    },
    {
      "source": [
        "## Additional Corpus EDA - Creating Bigrams\n",
        "\n",
        "Knowing individual word frequencies is somewhat informative, but in practice, some of these tokens are actually parts of larger phrases that should be treated as a single unit. Let's create some bigrams, and see which combinations of words are most telling."
      ],
      "cell_type": "markdown",
      "metadata": {
        "id": "EubNJ02dC-wb"
      }
    },
    {
      "cell_type": "code",
      "execution_count": 31,
      "metadata": {
        "id": "PlwJyPjgC-wc"
      },
      "outputs": [],
      "source": [
        "bigram_measures = nltk.collocations.BigramAssocMeasures()"
      ]
    },
    {
      "cell_type": "code",
      "execution_count": 32,
      "metadata": {
        "id": "RxzeuJLaC-wd"
      },
      "outputs": [],
      "source": [
        "# creating a finder & passing in tokenized corpus\n",
        "bigram_finder = BigramCollocationFinder.from_words(flat_filtered)"
      ]
    },
    {
      "cell_type": "code",
      "execution_count": 33,
      "metadata": {
        "id": "zmKLofOpC-we"
      },
      "outputs": [],
      "source": [
        "# computing bigram scores\n",
        "corpus_scored = bigram_finder.score_ngrams(bigram_measures.raw_freq)"
      ]
    },
    {
      "cell_type": "code",
      "execution_count": 34,
      "metadata": {
        "colab": {
          "base_uri": "https://localhost:8080/"
        },
        "id": "_Hf5l8I1C-we",
        "outputId": "fcec9272-f766-4f11-fac5-073d3141b434"
      },
      "outputs": [
        {
          "output_type": "execute_result",
          "data": {
            "text/plain": [
              "[(('wan', 'na'), 0.0018295365531745946),\n",
              " (('got', 'ta'), 0.001657849838507184),\n",
              " (('gon', 'na'), 0.0015666412713401222),\n",
              " (('bitch', 'ass'), 0.0012769199403388667),\n",
              " (('like', 'bitch'), 0.0011910765830051614),\n",
              " (('bitch', 'im'), 0.001169615743671735),\n",
              " (('look', 'like'), 0.0010837723863380297),\n",
              " (('ass', 'bitch'), 0.0010730419666713166),\n",
              " (('yo', 'bitch'), 0.0010301202880044638),\n",
              " (('bad', 'bitch'), 0.0009711029798375415),\n",
              " (('bitch', 'dont'), 0.0009603725601708283),\n",
              " (('bad', 'bitches'), 0.0007672250061699913),\n",
              " (('bitch', 'bitch'), 0.0007618597963366347),\n",
              " (('ass', 'nigga'), 0.0007135729078364255),\n",
              " (('hoes', 'aint'), 0.0006921120685029991),\n",
              " (('bitch', 'got'), 0.000681381648836286),\n",
              " (('fuck', 'bitch'), 0.000681381648836286),\n",
              " (('bitch', 'aint'), 0.0006706512291695728),\n",
              " (('little', 'bitch'), 0.0006652860193362163),\n",
              " (('bitch', 'nigga'), 0.0005687122423357978)]"
            ]
          },
          "metadata": {},
          "execution_count": 34
        }
      ],
      "source": [
        "# top 20 bigrams\n",
        "corpus_scored[:20]"
      ]
    },
    {
      "source": [
        "Is seems that most of these are nonsensical phrases, and may indicate that the data is still dirty. Next, we can use mutual information scores to show us the \"best\" bigrams."
      ],
      "cell_type": "markdown",
      "metadata": {
        "id": "zu-TSOnrC-wf"
      }
    },
    {
      "source": [
        "## Calculating Mutual Information Scores\n",
        "\n",
        "Pointwise Mutual Information Score is a statistical measure from information theory that generally measures the mutual dependence between two words. In plain english, this measures how much information the bigram itself contains by computing the dependence between the two words in the bigram. \n"
      ],
      "cell_type": "markdown",
      "metadata": {
        "id": "Julc0xwkC-wf"
      }
    },
    {
      "cell_type": "code",
      "execution_count": 35,
      "metadata": {
        "id": "U6H6bMdSC-wf"
      },
      "outputs": [],
      "source": [
        "# creating a finder for pmi & passing in torkenized corpus\n",
        "pmi_finder = BigramCollocationFinder.from_words(flat_filtered)"
      ]
    },
    {
      "cell_type": "code",
      "execution_count": 36,
      "metadata": {
        "id": "HMAAZjxKC-wg"
      },
      "outputs": [],
      "source": [
        "# applying frequency filter that only examines bigrams that occur more than 5 times\n",
        "pmi_finder.apply_freq_filter(5)"
      ]
    },
    {
      "cell_type": "code",
      "execution_count": 37,
      "metadata": {
        "id": "CBHgq_iYC-wh"
      },
      "outputs": [],
      "source": [
        "# using finder to calculate pmi scores\n",
        "pmi_scored = pmi_finder.score_ngrams(bigram_measures.pmi)"
      ]
    },
    {
      "cell_type": "code",
      "execution_count": 38,
      "metadata": {
        "colab": {
          "base_uri": "https://localhost:8080/"
        },
        "id": "J1Alj-MpC-wh",
        "outputId": "17ae1e17-f454-479a-b1dc-6a628e9129ba"
      },
      "outputs": [
        {
          "output_type": "execute_result",
          "data": {
            "text/plain": [
              "[(('wishy', 'washy'), 14.922971472714774),\n",
              " (('dej', 'loaf'), 14.700579051378327),\n",
              " (('disrupts', 'shylock'), 14.700579051378327),\n",
              " (('operation', 'disrupts'), 14.700579051378327),\n",
              " (('shylock', 'banking'), 14.700579051378327),\n",
              " (('cargos', 'haircut'), 14.507933973435932),\n",
              " (('aux', 'cord'), 14.50793397343593),\n",
              " (('spear', 'chucker'), 14.50793397343593),\n",
              " (('trey', 'songz'), 14.50793397343593),\n",
              " (('coloured', 'cargos'), 13.922971472714774),\n",
              " (('sweetest', 'joy'), 13.922971472714774),\n",
              " (('plot', 'twist'), 13.855857276856238),\n",
              " (('khaki', 'coloured'), 13.659937066880982),\n",
              " (('justin', 'bieber'), 13.58510183395839),\n",
              " (('revenge', 'sweetest'), 13.49001206543867),\n",
              " (('miley', 'cyrus'), 13.282967608435658),\n",
              " (('scally', 'lad'), 13.218427356240948),\n",
              " (('sloppy', 'toppy'), 13.18600587854857),\n",
              " (('rated', 'spa'), 13.115616550657172),\n",
              " (('twitpic', 'selfie'), 13.070528661128632),\n",
              " (('grand', 'opening'), 13.016080877106258),\n",
              " (('merry', 'christmas'), 12.96361345721212),\n",
              " (('nicki', 'minaj'), 12.96361345721212),\n",
              " (('ling', 'ling'), 12.922971472714774),\n",
              " (('guinea', 'pig'), 12.852582144823376),\n",
              " (('fairy', 'tale'), 12.761979596042469),\n",
              " (('feather', 'flock'), 12.683505538019386),\n",
              " (('catches', 'worm'), 12.630189723486929),\n",
              " (('shy', 'glizzy'), 12.553737663049057),\n",
              " (('nappy', 'headed'), 12.52304086582614)]"
            ]
          },
          "metadata": {},
          "execution_count": 38
        }
      ],
      "source": [
        "# first 30 elements in this list\n",
        "pmi_scored[:30]"
      ]
    },
    {
      "source": [
        "These are the top 30 bigrams, according to PMI score. Most of these are identifiable as English slang terms. Def Loaf is an american rapper, and Shylock is a malware that targets banks.\n",
        "\n",
        "We can impliment bigrams into models using `ngram_range` during the TF-IDF vectorization stage. From there, we can start running some baseline models to see how they perform with this data."
      ],
      "cell_type": "markdown",
      "metadata": {
        "id": "MJGqgRtzC-wh"
      }
    },
    {
      "cell_type": "code",
      "execution_count": 39,
      "metadata": {
        "id": "5yDYygGSC-wi"
      },
      "outputs": [],
      "source": [
        "bigrams_list = pmi_scored[:30]"
      ]
    },
    {
      "cell_type": "code",
      "execution_count": 40,
      "metadata": {
        "colab": {
          "base_uri": "https://localhost:8080/"
        },
        "id": "OerZtvYIC-wi",
        "outputId": "a17fb093-4c1d-4319-c6b1-bceec32ec630"
      },
      "outputs": [
        {
          "output_type": "execute_result",
          "data": {
            "text/plain": [
              "[(('wishy', 'washy'), 14.922971472714774),\n",
              " (('dej', 'loaf'), 14.700579051378327),\n",
              " (('disrupts', 'shylock'), 14.700579051378327),\n",
              " (('operation', 'disrupts'), 14.700579051378327),\n",
              " (('shylock', 'banking'), 14.700579051378327),\n",
              " (('cargos', 'haircut'), 14.507933973435932),\n",
              " (('aux', 'cord'), 14.50793397343593),\n",
              " (('spear', 'chucker'), 14.50793397343593),\n",
              " (('trey', 'songz'), 14.50793397343593),\n",
              " (('coloured', 'cargos'), 13.922971472714774),\n",
              " (('sweetest', 'joy'), 13.922971472714774),\n",
              " (('plot', 'twist'), 13.855857276856238),\n",
              " (('khaki', 'coloured'), 13.659937066880982),\n",
              " (('justin', 'bieber'), 13.58510183395839),\n",
              " (('revenge', 'sweetest'), 13.49001206543867),\n",
              " (('miley', 'cyrus'), 13.282967608435658),\n",
              " (('scally', 'lad'), 13.218427356240948),\n",
              " (('sloppy', 'toppy'), 13.18600587854857),\n",
              " (('rated', 'spa'), 13.115616550657172),\n",
              " (('twitpic', 'selfie'), 13.070528661128632),\n",
              " (('grand', 'opening'), 13.016080877106258),\n",
              " (('merry', 'christmas'), 12.96361345721212),\n",
              " (('nicki', 'minaj'), 12.96361345721212),\n",
              " (('ling', 'ling'), 12.922971472714774),\n",
              " (('guinea', 'pig'), 12.852582144823376),\n",
              " (('fairy', 'tale'), 12.761979596042469),\n",
              " (('feather', 'flock'), 12.683505538019386),\n",
              " (('catches', 'worm'), 12.630189723486929),\n",
              " (('shy', 'glizzy'), 12.553737663049057),\n",
              " (('nappy', 'headed'), 12.52304086582614)]"
            ]
          },
          "metadata": {},
          "execution_count": 40
        }
      ],
      "source": [
        "bigrams_list"
      ]
    },
    {
      "source": [
        "## Visualizing Bigram Frequency"
      ],
      "cell_type": "markdown",
      "metadata": {
        "id": "2idtHbXgC-wj"
      }
    },
    {
      "cell_type": "code",
      "execution_count": 41,
      "metadata": {
        "id": "YPPNXCBwC-wj"
      },
      "outputs": [],
      "source": [
        "bigrams_series = (pd.Series(nltk.ngrams(flat_filtered, 2)).value_counts())[:20]"
      ]
    },
    {
      "cell_type": "code",
      "execution_count": 42,
      "metadata": {
        "colab": {
          "base_uri": "https://localhost:8080/",
          "height": 544
        },
        "id": "-k8xZggoC-wk",
        "outputId": "bfefe619-37f8-4d43-80bd-28124dc8e25f"
      },
      "outputs": [
        {
          "output_type": "execute_result",
          "data": {
            "text/plain": [
              "Text(0.5, 0, 'Number of Occurances')"
            ]
          },
          "metadata": {},
          "execution_count": 42
        },
        {
          "output_type": "display_data",
          "data": {
            "text/plain": [
              "<Figure size 864x576 with 1 Axes>"
            ],
            "image/png": "[encoded data removed]"
          },
          "metadata": {
            "needs_background": "light"
          }
        }
      ],
      "source": [
        "bigrams_series.sort_values().plot.barh(color=cm.viridis_r(np.linspace(.4,.8, 30)), width=.9, figsize=(12, 8))\n",
        "plt.title('20 Most Frequently Occurring Bigrams', fontsize=18)\n",
        "plt.ylabel('Bigram', fontsize=18)\n",
        "plt.xlabel('Number of Occurances', fontsize=18)"
      ]
    },
    {
      "source": [
        "## Stretch Goal: Visualizing Top Bigram Score"
      ],
      "cell_type": "markdown",
      "metadata": {
        "id": "ukDJ7iZFC-wk"
      }
    },
    {
      "source": [
        "### Converting list to DF we can censor the bigrams"
      ],
      "cell_type": "markdown",
      "metadata": {
        "id": "2v1XSMGCC-wl"
      }
    },
    {
      "cell_type": "code",
      "execution_count": 43,
      "metadata": {
        "id": "PoRJY6dAC-wl"
      },
      "outputs": [],
      "source": [
        "bigrams_df = pd.DataFrame(bigrams_list,columns=['bigram', 'pmi_score'])"
      ]
    },
    {
      "cell_type": "code",
      "execution_count": 44,
      "metadata": {
        "colab": {
          "base_uri": "https://localhost:8080/",
          "height": 206
        },
        "id": "U_UYKYWiC-wm",
        "outputId": "a286f4c9-e9dc-4631-af9a-a7190d671129"
      },
      "outputs": [
        {
          "output_type": "execute_result",
          "data": {
            "text/plain": [
              "                  bigram  pmi_score\n",
              "0         (wishy, washy)  14.922971\n",
              "1            (dej, loaf)  14.700579\n",
              "2    (disrupts, shylock)  14.700579\n",
              "3  (operation, disrupts)  14.700579\n",
              "4     (shylock, banking)  14.700579"
            ],
            "text/html": [
              "\n",
              "  <div id=\"df-c16252f7-8a99-41c7-95b4-ee7a755caddd\">\n",
              "    <div class=\"colab-df-container\">\n",
              "      <div>\n",
              "<style scoped>\n",
              "    .dataframe tbody tr th:only-of-type {\n",
              "        vertical-align: middle;\n",
              "    }\n",
              "\n",
              "    .dataframe tbody tr th {\n",
              "        vertical-align: top;\n",
              "    }\n",
              "\n",
              "    .dataframe thead th {\n",
              "        text-align: right;\n",
              "    }\n",
              "</style>\n",
              "<table border=\"1\" class=\"dataframe\">\n",
              "  <thead>\n",
              "    <tr style=\"text-align: right;\">\n",
              "      <th></th>\n",
              "      <th>bigram</th>\n",
              "      <th>pmi_score</th>\n",
              "    </tr>\n",
              "  </thead>\n",
              "  <tbody>\n",
              "    <tr>\n",
              "      <th>0</th>\n",
              "      <td>(wishy, washy)</td>\n",
              "      <td>14.922971</td>\n",
              "    </tr>\n",
              "    <tr>\n",
              "      <th>1</th>\n",
              "      <td>(dej, loaf)</td>\n",
              "      <td>14.700579</td>\n",
              "    </tr>\n",
              "    <tr>\n",
              "      <th>2</th>\n",
              "      <td>(disrupts, shylock)</td>\n",
              "      <td>14.700579</td>\n",
              "    </tr>\n",
              "    <tr>\n",
              "      <th>3</th>\n",
              "      <td>(operation, disrupts)</td>\n",
              "      <td>14.700579</td>\n",
              "    </tr>\n",
              "    <tr>\n",
              "      <th>4</th>\n",
              "      <td>(shylock, banking)</td>\n",
              "      <td>14.700579</td>\n",
              "    </tr>\n",
              "  </tbody>\n",
              "</table>\n",
              "</div>\n",
              "      <button class=\"colab-df-convert\" onclick=\"convertToInteractive('df-c16252f7-8a99-41c7-95b4-ee7a755caddd')\"\n",
              "              title=\"Convert this dataframe to an interactive table.\"\n",
              "              style=\"display:none;\">\n",
              "        \n",
              "  <svg xmlns=\"http://www.w3.org/2000/svg\" height=\"24px\"viewBox=\"0 0 24 24\"\n",
              "       width=\"24px\">\n",
              "    <path d=\"M0 0h24v24H0V0z\" fill=\"none\"/>\n",
              "    <path d=\"M18.56 5.44l.94 2.06.94-2.06 2.06-.94-2.06-.94-.94-2.06-.94 2.06-2.06.94zm-11 1L8.5 8.5l.94-2.06 2.06-.94-2.06-.94L8.5 2.5l-.94 2.06-2.06.94zm10 10l.94 2.06.94-2.06 2.06-.94-2.06-.94-.94-2.06-.94 2.06-2.06.94z\"/><path d=\"M17.41 7.96l-1.37-1.37c-.4-.4-.92-.59-1.43-.59-.52 0-1.04.2-1.43.59L10.3 9.45l-7.72 7.72c-.78.78-.78 2.05 0 2.83L4 21.41c.39.39.9.59 1.41.59.51 0 1.02-.2 1.41-.59l7.78-7.78 2.81-2.81c.8-.78.8-2.07 0-2.86zM5.41 20L4 18.59l7.72-7.72 1.47 1.35L5.41 20z\"/>\n",
              "  </svg>\n",
              "      </button>\n",
              "      \n",
              "  <style>\n",
              "    .colab-df-container {\n",
              "      display:flex;\n",
              "      flex-wrap:wrap;\n",
              "      gap: 12px;\n",
              "    }\n",
              "\n",
              "    .colab-df-convert {\n",
              "      background-color: #E8F0FE;\n",
              "      border: none;\n",
              "      border-radius: 50%;\n",
              "      cursor: pointer;\n",
              "      display: none;\n",
              "      fill: #1967D2;\n",
              "      height: 32px;\n",
              "      padding: 0 0 0 0;\n",
              "      width: 32px;\n",
              "    }\n",
              "\n",
              "    .colab-df-convert:hover {\n",
              "      background-color: #E2EBFA;\n",
              "      box-shadow: 0px 1px 2px rgba(60, 64, 67, 0.3), 0px 1px 3px 1px rgba(60, 64, 67, 0.15);\n",
              "      fill: #174EA6;\n",
              "    }\n",
              "\n",
              "    [theme=dark] .colab-df-convert {\n",
              "      background-color: #3B4455;\n",
              "      fill: #D2E3FC;\n",
              "    }\n",
              "\n",
              "    [theme=dark] .colab-df-convert:hover {\n",
              "      background-color: #434B5C;\n",
              "      box-shadow: 0px 1px 3px 1px rgba(0, 0, 0, 0.15);\n",
              "      filter: drop-shadow(0px 1px 2px rgba(0, 0, 0, 0.3));\n",
              "      fill: #FFFFFF;\n",
              "    }\n",
              "  </style>\n",
              "\n",
              "      <script>\n",
              "        const buttonEl =\n",
              "          document.querySelector('#df-c16252f7-8a99-41c7-95b4-ee7a755caddd button.colab-df-convert');\n",
              "        buttonEl.style.display =\n",
              "          google.colab.kernel.accessAllowed ? 'block' : 'none';\n",
              "\n",
              "        async function convertToInteractive(key) {\n",
              "          const element = document.querySelector('#df-c16252f7-8a99-41c7-95b4-ee7a755caddd');\n",
              "          const dataTable =\n",
              "            await google.colab.kernel.invokeFunction('convertToInteractive',\n",
              "                                                     [key], {});\n",
              "          if (!dataTable) return;\n",
              "\n",
              "          const docLinkHtml = 'Like what you see? Visit the ' +\n",
              "            '<a target=\"_blank\" href=https://colab.research.google.com/notebooks/data_table.ipynb>data table notebook</a>'\n",
              "            + ' to learn more about interactive tables.';\n",
              "          element.innerHTML = '';\n",
              "          dataTable['output_type'] = 'display_data';\n",
              "          await google.colab.output.renderOutput(dataTable, element);\n",
              "          const docLink = document.createElement('div');\n",
              "          docLink.innerHTML = docLinkHtml;\n",
              "          element.appendChild(docLink);\n",
              "        }\n",
              "      </script>\n",
              "    </div>\n",
              "  </div>\n",
              "  "
            ]
          },
          "metadata": {},
          "execution_count": 44
        }
      ],
      "source": [
        "bigrams_df.head()"
      ]
    },
    {
      "source": [],
      "cell_type": "markdown",
      "metadata": {
        "id": "rTYtGTDqC-wn"
      }
    }
  ]
}